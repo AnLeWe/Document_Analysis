{
 "cells": [
  {
   "cell_type": "markdown",
   "id": "79a3caf2-5b7b-4c21-a4bd-82296a3f89e1",
   "metadata": {},
   "source": [
    "## Document Analysis: Computational Methods - Summer Term 2025\n",
    "### Lectures: Jun.-Prof. Dr. Andreas Spitz\n",
    "### Tutorials: Julian Schelb"
   ]
  },
  {
   "cell_type": "markdown",
   "id": "ef64b269-6b17-4409-b907-50010c0cc1f8",
   "metadata": {},
   "source": [
    "# Exercise 03"
   ]
  },
  {
   "cell_type": "markdown",
   "id": "e87ea437-6493-4082-8e93-10e6a6dc42a3",
   "metadata": {},
   "source": [
    "- Leftmost Derivation\n",
    "- CKY Algorithm and Chomsky Normal Form"
   ]
  },
  {
   "cell_type": "markdown",
   "id": "75102490-f8ec-4855-ad83-4a6162158df6",
   "metadata": {},
   "source": [
    "---"
   ]
  },
  {
   "cell_type": "markdown",
   "id": "83419e06-965f-4c2e-8af4-ab46b22082ad",
   "metadata": {
    "tags": []
   },
   "source": [
    "## Task 1 - Leftmost Derivation (pen and paper):"
   ]
  },
  {
   "cell_type": "markdown",
   "id": "dacc5eee-4940-4d59-b348-3c07894c3e43",
   "metadata": {},
   "source": [
    "## Data and Grammar\n",
    "\n",
    "Sentences:\n",
    "\n",
    " 1. The angry bear chased the frightened little squirrel.\n",
    " 2. The dog saw a man in the park.\n",
    "\n",
    "\n",
    "Grammar:\n",
    "\n",
    "- S -> NP VP\n",
    "- NP -> Det Nom | Det N | NP PP\n",
    "- Nom -> Adj Nom | Adj N\n",
    "- VP -> V Adj | V NP | V S\n",
    "- PP -> P NP\n",
    "- Det -> ‘the’ | ‘a’\n",
    "- N -> ‘bear’ | ‘squirrel’ | ‘dog’ | ‘park’ | ‘man’\n",
    "- Adj -> ‘angry’ | ‘frightened’ | ‘little’\n",
    "- V -> ‘saw’ | ‘chased’\n",
    "- P -> ‘in’"
   ]
  },
  {
   "cell_type": "markdown",
   "id": "b3eb47a8-fa85-49d5-b865-c20568cf9b84",
   "metadata": {},
   "source": [
    "Parse both sentences (1 and 2) with the Leftmost Derivation parser, using the grammar provided.\n",
    "\n",
    "1. Write down each step and emxplain what you are doing in this step."
   ]
  },
  {
   "cell_type": "markdown",
   "id": "00a747f2-f36a-4004-9e71-cc5f5b4ff6f0",
   "metadata": {},
   "source": [
    "**EXAMPLE SOLUTION**\n",
    "\n",
    "The Leftmost Derivation parser works, by replacing the leftmost non-terminal symbol by an matching derivation. This process is iteratively repeated until only terminal-symbols remain and therefore the structure is derived. In the following we present the parsing process step by step. The grammar resolution\n",
    "is written at the end for each step to show what we are doing:\n",
    "\n",
    "#### Sentence 1\n",
    "\n",
    "\n",
    "```\n",
    "         S                                                | S -> NP VP\n",
    "         |\n",
    "       /   \\\n",
    "     NP      VP                                           | NP -> DET NOM\n",
    "     |        \\                                           | DET -> the \n",
    "   /  \\         \\                                         \n",
    "DET    NOM        \\                                       | NOM -> ADJ N\n",
    " |      |           \\                                     | ADJ -> angry \n",
    " |     /  \\           \\                                   | N -> bear\n",
    " |    ADJ  N           \\                                  | VP -> V NP \n",
    " |    |    |            |                                 | V -> chased\n",
    " |    |    |      /          \\\n",
    " |    |    |     V            NP                          | NP -> DET NOM   \n",
    " |    |    |     |            |                           | DET -> the\n",
    " |    |    |     |       /         \\\n",
    " |    |    |     |    DET           NOM                   | NOM -> ADJ NOM\n",
    " |    |    |     |     |             |                    | ADJ -> frightened\n",
    " |    |    |     |     |         /       \\\n",
    " |    |    |     |     |      ADJ         NOM             | NOM -> ADJ NOM\n",
    " |    |    |     |     |       |           |              | ADJ -> little\n",
    " |    |    |     |     |       |         /   \\            | N -> squirrel \n",
    " |    |    |     |     |       |       ADJ     N         \n",
    " |    |    |     |     |       |        |      | \n",
    "The angry bear chased the frightened little squirrel\n",
    "```\n",
    "\n",
    "\n",
    "\n",
    "#### Sentence 2\n",
    "\n",
    "```\n",
    "        S                                            | S -> NP VP\n",
    "        |\n",
    "      /   \\\n",
    "    NP     VP                                        | NP -> DET N\n",
    "    |      |                                         | DET -> the\n",
    "  /  \\     |                                         | N -> dog \n",
    "DET   N    |                                        \n",
    " |    |   /  \\                                       | VP -> V NP \n",
    " |    |  V     NP                                    | V -> saw\n",
    " |    |  |      |                                    | NP -> NP PP\n",
    " |    |  |     / \\                                   \n",
    " |    |  |   NP   PP                                 | NP -> DET N \n",
    " |    |  |    |    \\\n",
    " |    |  |   / \\    \\                                | DET -> a\n",
    " |    |  | DET N     \\                               | N -> man\n",
    " |    |  |  |  |      |                              | PP -> P NP\n",
    " |    |  |  |  |    /   \\  \n",
    " |    |  |  |  |   P    NP                           | P -> in\n",
    " |    |  |  |  |   |    |                            | NP -> DET N\n",
    " |    |  |  |  |   |   /  \\                          | DET -> the\n",
    " |    |  |  |  |   |  DET  N                         | N -> park\n",
    " |    |  |  |  |   |  |    |  \n",
    " |    |  |  |  |   |  |    |\n",
    "The dog saw a man in the park\n",
    "```"
   ]
  },
  {
   "cell_type": "markdown",
   "id": "7a915f04-65c2-4b22-bb91-63230f961777",
   "metadata": {},
   "source": [
    "2. Discuss the pros and cons of this approach."
   ]
  },
  {
   "cell_type": "markdown",
   "id": "e3f12b01-aebd-47d2-8dcd-1d7572f16994",
   "metadata": {},
   "source": [
    "**Pros / Cons**\n",
    "\n",
    "A disadvantage with this approach is that for every derivation step, the algorithm has to check if the derivation will actually lead towards terminals that are given by the input. This can be computationally expensive, especially when the input does not fit. However, it is guaranteed to be valid for the given grammar; an advantage is that the parser will deterministically choose a unique derivation (even though there are ambiguities in principal), as the order of derivation is uniquely determined."
   ]
  },
  {
   "cell_type": "markdown",
   "id": "5624e353-90c6-45ac-9a3c-1c6868b50877",
   "metadata": {},
   "source": [
    "---"
   ]
  },
  {
   "cell_type": "markdown",
   "id": "a4c674b6-b855-4188-b7d5-8f85ab2bacf0",
   "metadata": {},
   "source": [
    "## Task 2 - CYK Algorithm:"
   ]
  },
  {
   "cell_type": "markdown",
   "id": "450b3c85-077d-4d83-96f1-add9db8a2c44",
   "metadata": {
    "tags": []
   },
   "source": [
    "### Part 1: Theory\n",
    "\n",
    "Why is bottom-up parsing inefficient? \n",
    "How does CKY algorithm overcome this issue?"
   ]
  },
  {
   "cell_type": "markdown",
   "id": "4635bf5a-b112-46ea-8f5e-d05c57bb30af",
   "metadata": {},
   "source": [
    "- Bottom-up parsing methods explore many parses; many intermediate results need to be stored. \n",
    "  Unless a grammar is trivial, the naive method of trying to\n",
    "  track down every single production path from the start symbol is going to take too much time. \n",
    "\n",
    "- CKY assumes that any portion of the input string spanning i to j can be split at k, and structure can then be built using sub-solutions spanning i to k and sub-solutions spanning k to j .\n",
    "\n",
    "- It uses dynamic programming: saves partial solutions in a table.\n",
    "\n",
    "- The solution is being built from the bottom up where first we find variables that produce substrings of length 1, \n",
    "  then use that information to find variables that produce substrings of length 2 and so on and so forth.\n",
    "\n"
   ]
  },
  {
   "cell_type": "markdown",
   "id": "f422a995-6384-4ae3-aa68-42d1926fac49",
   "metadata": {},
   "source": [
    "### Part 2: Chomsky Normal Form (pen and paper)\n",
    "\n",
    "**(1)** Why do we need to transform the grammar to Chomsky Normal Form \n",
    "before applying the CKY algorithm?"
   ]
  },
  {
   "cell_type": "markdown",
   "id": "6d5c837b-0c68-4658-b979-6977a4c2da12",
   "metadata": {},
   "source": [
    "Two problems:\n",
    "- NP -> Noun\n",
    "- VP -> Verb NP PP\n",
    "\n",
    "```\n",
    "1) 'unary collapsing': \n",
    "- while there is a unit-production A -> B,\n",
    "- remove A -> B.\n",
    "- foreach B -> u, add A -> u\n",
    "\n",
    "In our example: \n",
    "- remove NP -> Noun\n",
    "- add NP -> John|Mary\n",
    "\n",
    "2) Remove rules with more than two non-terminals on the RHS (binarization)\n",
    "- foreach rule p of form A -> B1 B2...Bk\n",
    "- replace p with A -> B1 X1, X1 -> B2 X2, X2 -> B3 X3, ...\n",
    "\n",
    "In our example:\n",
    "- problem: VP -> Verb NP PP\n",
    "- introduce new variable: X\n",
    "   VP -> Verb X\n",
    "   X -> NP PP\n",
    "\n",
    "```"
   ]
  },
  {
   "cell_type": "markdown",
   "id": "0d6da90e-9097-434b-9204-1c33ad9d59c0",
   "metadata": {},
   "source": [
    "**(2)** Transform the given example to Chomsky Normal Form.\n",
    "\n",
    "- S -> NP VP\n",
    "- NP -> Noun\n",
    "- NP -> Noun PP\n",
    "- VP -> Verb NP\n",
    "- VP -> Verb NP PP\n",
    "- PP -> Prep Adj\n",
    "- Noun -> ‘John‘ | ‘Mary‘\n",
    "- Verb -> ‘led‘\n",
    "- Prep -> ‘with‘\n",
    "- Adj -> ‘care‘"
   ]
  },
  {
   "cell_type": "markdown",
   "id": "0a0d6fb5-5c3a-4f7f-a243-f015ef68e28f",
   "metadata": {},
   "source": [
    "Grammar in CNF:\n",
    "```\n",
    "- S0 -> NP VP\n",
    "- NP -> John|Mary\n",
    "- NP -> Noun PP\n",
    "- VP -> Verb X\n",
    "- VP -> NP PP\n",
    "- X -> Verb NP\n",
    "- PP -> Prep Adj\n",
    "- Noun -> John|Mary\n",
    "- Verb -> led\n",
    "- Prep -> with\n",
    "- Adj -> care\n",
    "\n",
    "```"
   ]
  },
  {
   "cell_type": "markdown",
   "id": "fb4ff1cc-67ab-468d-a1db-b5b4cb806db0",
   "metadata": {},
   "source": [
    "---"
   ]
  },
  {
   "cell_type": "markdown",
   "id": "5d529a67-c3e6-4ca1-92af-ae909f92fee7",
   "metadata": {},
   "source": [
    "## Task 3 - CYK algorithm (pen and paper):"
   ]
  },
  {
   "cell_type": "markdown",
   "id": "a7982272-3397-46f3-8ac7-c1331ef62edb",
   "metadata": {},
   "source": [
    "Parse the first sentence from Task 1, this time using the CYK algorithm:\n",
    "    \n",
    "    The angry bear chased the frightened little squirrel.\n",
    "    \n",
    "Again, use the initial grammar from Task 1 as a reference:\n",
    "\n",
    "Grammar:\n",
    "\n",
    "- S -> NP VP\n",
    "- NP -> Det Nom | Det N | NP PP\n",
    "- Nom -> Adj Nom | Adj N\n",
    "- VP -> V Adj | V NP | V S\n",
    "- PP -> P NP\n",
    "- Det -> ‘the’ | ‘a’\n",
    "- N -> ‘bear’ | ‘squirrel’ | ‘dog’ | ‘park’ | ‘man’\n",
    "- Adj -> ‘angry’ | ‘frightened’ | ‘little’\n",
    "- V -> ‘saw’ | ‘chased’\n",
    "- P -> ‘in’"
   ]
  },
  {
   "cell_type": "markdown",
   "id": "9166cc52-2ca4-4aef-841c-9c026b84d3ad",
   "metadata": {},
   "source": [
    "#### Sentence 1\n",
    "\n",
    "The angry bear chased the frightened little squirrel\n",
    "\n",
    "```\n",
    "-----------------------------------------------------------------------------\n",
    "The |  DET |  -  |  NP  | -  |    -     |   -    |    -    |  S\n",
    "    -------------------------------------------------------------------------\n",
    "     angry | ADJ |  NOM |  -  |    -     |   -   |    -    |  -\n",
    "           ------------------------------------------------------------------\n",
    "            bear |  N   |  -  |    -     |   -   |    -    |  -\n",
    "                 ------------------------------------------------------------\n",
    "                 chased |  V  |    -     |   -   |    -    |  VP\n",
    "                        -----------------------------------------------------\n",
    "                         the  |    DET   |   -   |    -    |  NP\n",
    "                            -------------------------------------------------\n",
    "                              frightened |   ADJ |    -    |  NOM\n",
    "                                         ------------------------------------\n",
    "                                          little |    ADJ  |  NOM\n",
    "                                                  ---------------------------\n",
    "                                                  squirrel |  N\n",
    "                                                            -----------------\n",
    "```\n",
    "\n",
    "  \n",
    "And the order of steps is the following:\n",
    "\n",
    "```\n",
    "-----------------------------------------------------------------------------\n",
    "The |  DET1|  - 3|  NP 6|  -10|    -   15|   - 21|    -  28|  S   36\n",
    "    -------------------------------------------------------------------------\n",
    "     angry | ADJ2|  NOM5|  - 9|    -   14|   - 20|    -  27|  -   35\n",
    "           ------------------------------------------------------------------\n",
    "            bear |  N  4|  - 8|    -   13|   - 19|    -  26|  -   34\n",
    "                 ------------------------------------------------------------\n",
    "                 chased |  V 7|    -   12|   - 18|    -  25|  VP  33\n",
    "                        -----------------------------------------------------\n",
    "                         the  |    DET 11|   - 17|    -  24|  NP  32\n",
    "                            -------------------------------------------------\n",
    "                              frightened | ADJ 16|    -  23|  NOM 31\n",
    "                                         ------------------------------------\n",
    "                                          little |    ADJ22|  NOM 30\n",
    "                                                  ---------------------------\n",
    "                                                  squirrel |  N 29\n",
    "                                                            -----------------\n",
    "```\n",
    "\n",
    "Note that in some cases, there might be multiple rules possible per cell, and each one has to be tested."
   ]
  },
  {
   "cell_type": "markdown",
   "id": "4ef2f56d",
   "metadata": {},
   "source": [
    "| POS Tag   | Meaning                             |\n",
    "|-----------|-------------------------------------|\n",
    "| DET       | Determiner                          |\n",
    "| ADJ       | Adjective                           |\n",
    "| N         | Noun                                |\n",
    "| V         | Verb                                |\n",
    "| NOM       | Nominal                             |\n",
    "| NP        | Noun Phrase                         |\n",
    "| S         | Sentence                            |\n",
    "| VP        | Verb Phrase                         |\n"
   ]
  },
  {
   "cell_type": "markdown",
   "id": "78c26bc0-0627-4bb2-ae64-39634d97c028",
   "metadata": {},
   "source": [
    "---"
   ]
  },
  {
   "cell_type": "markdown",
   "id": "9653c77e-ca28-4ee5-8c5f-cca95cbc5ae0",
   "metadata": {},
   "source": [
    "#### Submitting your results:\n",
    "\n",
    "To submit your results, please:\n",
    "\n",
    "- save this file, i.e., `ex??_assignment.ipynb`.\n",
    "- if you reference any external files (e.g., images), please create a zip or rar archieve and put the notebook files and all referenced files in there.\n",
    "- login to ILIAS and submit the `*.ipynb` or archive for the corresponding assignment."
   ]
  },
  {
   "cell_type": "markdown",
   "id": "1fd431e5-dc4b-4a35-8173-bb11b9cfccdc",
   "metadata": {},
   "source": [
    "**Remarks:**\n",
    "    \n",
    "- Do not copy any code from the Internet. In case you want to use publicly available code, please, add the reference to the respective code snippet.\n",
    "- Check your code compiles and executes, even after you have restarted the Kernel.\n",
    "- Submit your written solutions and the coding exercises within the provided spaces and not otherwise.\n",
    "- Write the names of your partner and your name in the top section."
   ]
  },
  {
   "cell_type": "markdown",
   "id": "34ebf152",
   "metadata": {},
   "source": []
  }
 ],
 "metadata": {
  "kernelspec": {
   "display_name": "Python 3 (ipykernel)",
   "language": "python",
   "name": "python3"
  },
  "language_info": {
   "codemirror_mode": {
    "name": "ipython",
    "version": 3
   },
   "file_extension": ".py",
   "mimetype": "text/x-python",
   "name": "python",
   "nbconvert_exporter": "python",
   "pygments_lexer": "ipython3",
   "version": "3.10.8"
  }
 },
 "nbformat": 4,
 "nbformat_minor": 5
}
