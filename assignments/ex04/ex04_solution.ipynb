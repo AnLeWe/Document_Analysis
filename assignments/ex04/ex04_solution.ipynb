{
    "cells": [
        {
            "cell_type": "markdown",
            "id": "57546ca6",
            "metadata": {},
            "source": [
                "## Document Analysis: Computational Methods - Summer Term 2025\n",
                "### Lectures: Jun.-Prof. Dr. Andreas Spitz\n",
                "### Tutorials: Julian Schelb"
            ]
        },
        {
            "cell_type": "markdown",
            "id": "0c5d2630",
            "metadata": {},
            "source": [
                "# Exercise 04"
            ]
        },
        {
            "cell_type": "markdown",
            "id": "f165861b",
            "metadata": {},
            "source": [
                "- NLP Recap\n",
                "- Entity Recognition"
            ]
        },
        {
            "cell_type": "markdown",
            "id": "4858f469",
            "metadata": {},
            "source": [
                "---"
            ]
        },
        {
            "cell_type": "markdown",
            "id": "97fe3fd2",
            "metadata": {
                "tags": []
            },
            "source": [
                "## Task 1 - NLP Recap:"
            ]
        },
        {
            "cell_type": "markdown",
            "id": "3802c65f",
            "metadata": {
                "tags": []
            },
            "source": [
                "## Q & A\n",
                "\n",
                "Give answers to the following question. If you like, you can treat it as exam preparation, e.g., first try to solve the question without help of the slides ;) But you are obviously allowed to use the slides at any time\n"
            ]
        },
        {
            "cell_type": "markdown",
            "id": "b73904a7",
            "metadata": {},
            "source": [
                "(1) Name three reasons why natural language processing (NLP) is challenging"
            ]
        },
        {
            "cell_type": "markdown",
            "id": "74978d56",
            "metadata": {},
            "source": [
                "**EXAMPLE SOLUTION**\n",
                "\n",
                "1. Comprehensively understanding the human language requires **understanding both the words and** how the **concepts** are connected to deliver the intended message -> Syntax & Semantics\n",
                "\n",
                "2. While humans can easily master a language, the **ambiguity** and **imprecise** characteristics of the natural languages are what make NLP difficult for machines to implement -> Ambuguitivy, Imprecision, Context-Dependce\n",
                "\n",
                "3. There are many **different languges (hundreds) with individual rules**, syntax etc. -> multilingualism\n",
                "\n",
                "4. Language is **different across cultures, age groups and individuals** -> External context dependence\n",
                "\n",
                "5. **Technical aspects** like text encodings, formatting, special character treatment etc. -> Handling of Text in Software\n",
                "\n",
                "..."
            ]
        },
        {
            "cell_type": "markdown",
            "id": "53315ce9",
            "metadata": {},
            "source": [
                "---"
            ]
        },
        {
            "cell_type": "markdown",
            "id": "a8777c55",
            "metadata": {},
            "source": [
                "(2) What is tokenization?"
            ]
        },
        {
            "cell_type": "markdown",
            "id": "811058de",
            "metadata": {},
            "source": [
                "**EXAMPLE SOLUTION**\n",
                "\n",
                "Tokenization describes segmenting an input stream into an ordered sequence of tokens."
            ]
        },
        {
            "cell_type": "markdown",
            "id": "3b411ffc",
            "metadata": {},
            "source": [
                "---"
            ]
        },
        {
            "cell_type": "markdown",
            "id": "6dd5f347",
            "metadata": {},
            "source": [
                "(3) What is a word stem? Give the stem of the word \"undoes\""
            ]
        },
        {
            "cell_type": "markdown",
            "id": "805e0cdf",
            "metadata": {},
            "source": [
                "**EXAMPLE SOLUTION**\n",
                "\n",
                "The common part to all derivated or inflected words e.g. undoes/undoing -> undo"
            ]
        },
        {
            "cell_type": "markdown",
            "id": "1eaf5f5d",
            "metadata": {},
            "source": [
                "---"
            ]
        },
        {
            "cell_type": "markdown",
            "id": "f0353975",
            "metadata": {},
            "source": [
                "(4) What is a word lemma? Give the lemma of the word \"undoes\""
            ]
        },
        {
            "cell_type": "markdown",
            "id": "c5afd0eb",
            "metadata": {},
            "source": [
                "**EXAMPLE SOLUTION**\n",
                "\n",
                "The base form of a word e.g. undoes -> (to) do"
            ]
        },
        {
            "cell_type": "markdown",
            "id": "dc16e9af",
            "metadata": {},
            "source": [
                "---"
            ]
        },
        {
            "cell_type": "markdown",
            "id": "db6e1eee",
            "metadata": {
                "tags": []
            },
            "source": [
                "(5) Why should we typically extract word stems/lemmas before preceding with text analysis?"
            ]
        },
        {
            "cell_type": "markdown",
            "id": "593f2f07",
            "metadata": {},
            "source": [
                "**EXAMPLE SOLUTION**\n",
                "\n",
                "To condense related words so that we don’t have as much variability. \n",
                "For instance, we would use it in an information retrieval setting to boost algorithm’s recall."
            ]
        },
        {
            "cell_type": "markdown",
            "id": "d9cf3102",
            "metadata": {},
            "source": [
                "---"
            ]
        },
        {
            "cell_type": "markdown",
            "id": "b8bd66df",
            "metadata": {},
            "source": [
                "(6) What are stop-words? Why it makes sense to remove stop-words before preceding with text analysis?"
            ]
        },
        {
            "cell_type": "markdown",
            "id": "e9f68e06",
            "metadata": {},
            "source": [
                "**EXAMPLE SOLUTION**\n",
                "\n",
                "Stop-words are words in natural language that have a very little meaning, such as \"is\", \"an\", \"the\", etc.\n",
                "They are often removed from the text since stop-words occur in abundance, hence providing little to no unique information that can be used for classification or clustering."
            ]
        },
        {
            "cell_type": "markdown",
            "id": "7d601c55",
            "metadata": {},
            "source": [
                "---"
            ]
        },
        {
            "cell_type": "markdown",
            "id": "21a37283",
            "metadata": {},
            "source": [
                "(7) If you had access to frequency statistics for a language, how could you create a list of stop words?"
            ]
        },
        {
            "cell_type": "markdown",
            "id": "4f8e925b",
            "metadata": {},
            "source": [
                "**EXAMPLE SOLUTION**\n",
                "\n",
                "One Way: Determine a cut-off, e.g. the 500 most frequent words, and mark these as stop words for following analysis steps."
            ]
        },
        {
            "cell_type": "markdown",
            "id": "8aa52d87",
            "metadata": {},
            "source": [
                "---"
            ]
        },
        {
            "cell_type": "markdown",
            "id": "979c1ce1",
            "metadata": {},
            "source": [
                "(8) Name a use-case in which we should NOT remove stop-words prior to text analysis."
            ]
        },
        {
            "cell_type": "markdown",
            "id": "92cdb258",
            "metadata": {},
            "source": [
                "**EXAMPLE SOLUTION**\n",
                "\n",
                "See the following example:\n",
                "```\n",
                " The crowd believed the man.\n",
                " The crowd believed in the man.\n",
                " The crowd believed that the man was lying.\n",
                "```\n",
                "With stop-words removed, each of these examples become the same sequence, namely \"crowd believed man\", however one sentence is indicating the opposite."
            ]
        },
        {
            "cell_type": "markdown",
            "id": "1cb3c73a",
            "metadata": {},
            "source": [
                "---"
            ]
        },
        {
            "cell_type": "markdown",
            "id": "19d74d60",
            "metadata": {},
            "source": [
                "(9) What is part-of-speech (POS) tagging? Why is it useful?"
            ]
        },
        {
            "cell_type": "markdown",
            "id": "00f83d5c",
            "metadata": {},
            "source": [
                "**EXAMPLE SOLUTION**\n",
                "\n",
                "A POS tag is a tag that indicates the part of speech for a word.\n",
                "POS tags have been used for a variety of NLP tasks; they provide linguistic signal on how a word is being used within the scope of a phrase, sentence, or document."
            ]
        },
        {
            "cell_type": "markdown",
            "id": "484e5aff",
            "metadata": {},
            "source": [
                "---"
            ]
        },
        {
            "cell_type": "markdown",
            "id": "09dbf21d",
            "metadata": {},
            "source": [
                "(10) Explain how n-gram POS tagging works. What is the limitation of this method?"
            ]
        },
        {
            "cell_type": "markdown",
            "id": "c86b218a",
            "metadata": {},
            "source": [
                "**EXAMPLE SOLUTION**\n",
                "\n",
                "The n-gram tagger is a simple statistical tagging algorithm. \n",
                "For each token, it assigns the tag that is most likely for that token’s text.\n",
                "For bigram and trigram tagger, by looking at the previous words and POS tags, part-of-speech tag for the current word can be guessed.\n",
                "Bigram tagger uses previous tag as part of its context\n",
                "Trigram tagger uses the previous two tags as part of its context.\n",
                "\n",
                "A potential issue with nth-order tagger is their size. \n",
                "An nth-order tagger with backoff may store trigram and bigram tables, large sparse arrays, which may have hundreds of millions of entries. \n",
                "A consequence of the size of the models is that it is simply impractical for nth-order models to be conditioned on the identities of words in the context."
            ]
        },
        {
            "cell_type": "markdown",
            "id": "6d6e80fc",
            "metadata": {},
            "source": [
                "---"
            ]
        },
        {
            "cell_type": "markdown",
            "id": "daf9ef52",
            "metadata": {},
            "source": [
                "(11) What is parsing? Which two main types of parsing exist?"
            ]
        },
        {
            "cell_type": "markdown",
            "id": "50c77af2",
            "metadata": {},
            "source": [
                "**EXAMPLE SOLUTION**\n",
                "\n",
                "Parsing means to analyze (a sentence) in terms of grammatical constituents, identifying the parts of speech, syntactic relations, etc.\n",
                "\n",
                "The two man approaches are:\n",
                "\n",
                "Top-down approach vs. bottom-up approach.\n",
                "\n",
                "alternatively:\n",
                "\n",
                "Constituency parsing vs. dependency parsing."
            ]
        },
        {
            "cell_type": "markdown",
            "id": "e5d34053",
            "metadata": {},
            "source": [
                "---"
            ]
        },
        {
            "cell_type": "markdown",
            "id": "6a06e840",
            "metadata": {},
            "source": [
                "(12) What is the difference between a context-free and a context-sensitive language? What is the difference between a context-free and a regular language?"
            ]
        },
        {
            "cell_type": "markdown",
            "id": "be74e24c",
            "metadata": {},
            "source": [
                "**EXAMPLE SOLUTION**\n",
                "\n",
                "In a context-free grammar, each production rule has the form `A -> α` (with α being a string of non-terminals and terminal-symbols, e.g. `A B` or `A terminal`)\n",
                "\n",
                "The set of context-free languages is a subset of all context-sensitive grammars. In the context-sensitive grammar, we allow rules to have the form `αAβ → αγβ` (with A being a non-terminal and the others being either).\n",
                "Here, production rules may need surounding contextual information. The same is not necessary in context-free grammars.\n",
                "\n",
                "Finall, a regular language is even more restricted by it's grammar: Each right-hand-side can have at most at most one non-terminal, and the non-terminal has to be consitently placed at the start or end of the string."
            ]
        },
        {
            "cell_type": "markdown",
            "id": "d4e22579",
            "metadata": {},
            "source": [
                "---"
            ]
        },
        {
            "cell_type": "markdown",
            "id": "93cb0cb7",
            "metadata": {},
            "source": [
                "(13) Give an equivalent grammar in Chomsky Normal form for the Grammar G=(N,T,P,S) with N={S,A,B,C}, T={a,b,c}, P={S->ABC, A->a, B->b, C->c}"
            ]
        },
        {
            "cell_type": "markdown",
            "id": "60e25c7d",
            "metadata": {},
            "source": [
                "Production rule set:\n",
                "- S -> A B C\n",
                "- A -> a\n",
                "- B -> b\n",
                "- C -> c\n",
                "\n",
                "We need to replace the rule containing the non-terminal symbols by introducing a new variable X:\n",
                "\n",
                "- S -> A X\n",
                "- X -> B C\n",
                "- A -> a\n",
                "- B -> b\n",
                "- C -> c"
            ]
        },
        {
            "cell_type": "markdown",
            "id": "5d9a2380",
            "metadata": {},
            "source": [
                "---"
            ]
        },
        {
            "cell_type": "markdown",
            "id": "40c9cd14",
            "metadata": {},
            "source": [
                "(14) Explain how shift-reduce parsing works."
            ]
        },
        {
            "cell_type": "markdown",
            "id": "b2cd3ce1",
            "metadata": {},
            "source": [
                "Shift-Reduce Parsing uses a stack as a datastructure, and has two distinct operations:\n",
                "\n",
                "SHIFT: Push a word fromt the input sentence onto the stack.\n",
                "\n",
                "REDUCE: We check if the top n words on the top of the stack match the right hand side of a production\n",
                "rule. If this is the case, reduce the n words and replace them by the left hand side of the production rule.\n",
                "\n",
                "The process stops when the input sentence has been processed completely (meaning every word has been pushed onto the stack), and S as the final stack element is pushed from the stack.\n"
            ]
        },
        {
            "cell_type": "markdown",
            "id": "79fce6f8",
            "metadata": {},
            "source": [
                "---"
            ]
        },
        {
            "cell_type": "markdown",
            "id": "b3219eab",
            "metadata": {},
            "source": [
                "(15) What is the grammar ambiguity problem?"
            ]
        },
        {
            "cell_type": "markdown",
            "id": "f7d70a6a",
            "metadata": {},
            "source": [
                "**EXAMPLE SOLUTION**\n",
                "\n",
                "An ambiguous grammar is a context-free grammar for which there exists a string that can have more than one leftmost derivation or parse tree, while an unambiguous grammar is a context-free grammar for which every valid string has a unique leftmost derivation or parse tree.\n"
            ]
        },
        {
            "cell_type": "markdown",
            "id": "2a7399ab",
            "metadata": {},
            "source": [
                "---"
            ]
        },
        {
            "cell_type": "markdown",
            "id": "2bcce638",
            "metadata": {},
            "source": [
                "## Task 2 - Named Entity Recognition:"
            ]
        },
        {
            "cell_type": "markdown",
            "id": "e1e3fbe6",
            "metadata": {
                "tags": []
            },
            "source": [
                "### Part 1: Automated Annotations\n",
                "\n",
                "Use Spacy to annotate entities in the debates dataset (available as part of the JSON in the data directory). [Depending on your computer, the extraction may take some time. Therefore, you are allowed to restrict the size of the text, e.g. to the first 250 sentences. Feel free to use a larger share of data to get better insights.]\n",
                "\n",
                "Tip: Use the en_core_web_sm corpus\n",
                "\n",
                "Display the results in readable form, e.g. show the tagged entities for a reasonably sized part of the data, idealy alongside the original text."
            ]
        },
        {
            "cell_type": "code",
            "execution_count": 1,
            "id": "efd9f739",
            "metadata": {},
            "outputs": [],
            "source": [
                "# Tip for Spacy: In order to load a dataset, you might need to download the dataset via command line. \n",
                "#Inside of a notebook, you can run commands with a !-mark\n",
                "\n",
                "#Similar to: !python ..."
            ]
        },
        {
            "cell_type": "code",
            "execution_count": 2,
            "id": "5ac54df5",
            "metadata": {},
            "outputs": [],
            "source": [
                "# read debates\n",
                "import json\n",
                "with open('data/texts.json', 'r') as infile:\n",
                "    data = json.load(infile)\n",
                "\n",
                "content_debates = data['debates']"
            ]
        },
        {
            "cell_type": "code",
            "execution_count": 3,
            "id": "d0509a87",
            "metadata": {},
            "outputs": [],
            "source": [
                "# split sentences\n",
                "import nltk\n",
                "sentences = nltk.sent_tokenize(content_debates)[0:1000:]"
            ]
        },
        {
            "cell_type": "code",
            "execution_count": 4,
            "id": "0eaaa36a",
            "metadata": {},
            "outputs": [],
            "source": [
                "import spacy\n",
                "nlp = spacy.load(\"en_core_web_sm\")"
            ]
        },
        {
            "cell_type": "code",
            "execution_count": 5,
            "id": "cf6c48e2",
            "metadata": {},
            "outputs": [],
            "source": [
                "annotated = [nlp(sentence) for sentence in sentences]"
            ]
        },
        {
            "cell_type": "code",
            "execution_count": 6,
            "id": "520aba5a",
            "metadata": {},
            "outputs": [
                {
                    "name": "stderr",
                    "output_type": "stream",
                    "text": [
                        "/Users/julianschelb/.pyenv/versions/3.10.8/envs/docana/lib/python3.10/site-packages/spacy/displacy/__init__.py:200: UserWarning: [W006] No entities to visualize found in Doc object. If this is surprising to you, make sure the Doc was processed using a model that supports named entity recognition, and check the `doc.ents` property manually if necessary.\n",
                        "  warnings.warn(Warnings.W006)\n"
                    ]
                },
                {
                    "data": {
                        "text/html": [
                            "<span class=\"tex2jax_ignore\"><div class=\"entities\" style=\"line-height: 2.5; direction: ltr\"> Good \n",
                            "<mark class=\"entity\" style=\"background: #bfe1d9; padding: 0.45em 0.6em; margin: 0 0.25em; line-height: 1; border-radius: 0.35em;\">\n",
                            "    evening\n",
                            "    <span style=\"font-size: 0.8em; font-weight: bold; line-height: 1; border-radius: 0.35em; vertical-align: middle; margin-left: 0.5rem\">TIME</span>\n",
                            "</mark>\n",
                            " from \n",
                            "<mark class=\"entity\" style=\"background: #7aecec; padding: 0.45em 0.6em; margin: 0 0.25em; line-height: 1; border-radius: 0.35em;\">\n",
                            "    Hofstra University\n",
                            "    <span style=\"font-size: 0.8em; font-weight: bold; line-height: 1; border-radius: 0.35em; vertical-align: middle; margin-left: 0.5rem\">ORG</span>\n",
                            "</mark>\n",
                            " in \n",
                            "<mark class=\"entity\" style=\"background: #feca74; padding: 0.45em 0.6em; margin: 0 0.25em; line-height: 1; border-radius: 0.35em;\">\n",
                            "    Hempstead\n",
                            "    <span style=\"font-size: 0.8em; font-weight: bold; line-height: 1; border-radius: 0.35em; vertical-align: middle; margin-left: 0.5rem\">GPE</span>\n",
                            "</mark>\n",
                            ", \n",
                            "<mark class=\"entity\" style=\"background: #feca74; padding: 0.45em 0.6em; margin: 0 0.25em; line-height: 1; border-radius: 0.35em;\">\n",
                            "    New York\n",
                            "    <span style=\"font-size: 0.8em; font-weight: bold; line-height: 1; border-radius: 0.35em; vertical-align: middle; margin-left: 0.5rem\">GPE</span>\n",
                            "</mark>\n",
                            ".</div>\n",
                            "\n",
                            "<div class=\"entities\" style=\"line-height: 2.5; direction: ltr\">I am \n",
                            "<mark class=\"entity\" style=\"background: #aa9cfc; padding: 0.45em 0.6em; margin: 0 0.25em; line-height: 1; border-radius: 0.35em;\">\n",
                            "    Lester Holt\n",
                            "    <span style=\"font-size: 0.8em; font-weight: bold; line-height: 1; border-radius: 0.35em; vertical-align: middle; margin-left: 0.5rem\">PERSON</span>\n",
                            "</mark>\n",
                            ", anchor of &quot;\n",
                            "<mark class=\"entity\" style=\"background: #7aecec; padding: 0.45em 0.6em; margin: 0 0.25em; line-height: 1; border-radius: 0.35em;\">\n",
                            "    NBC Nightly News\n",
                            "    <span style=\"font-size: 0.8em; font-weight: bold; line-height: 1; border-radius: 0.35em; vertical-align: middle; margin-left: 0.5rem\">ORG</span>\n",
                            "</mark>\n",
                            ".” I want to welcome you to the \n",
                            "<mark class=\"entity\" style=\"background: #e4e7d2; padding: 0.45em 0.6em; margin: 0 0.25em; line-height: 1; border-radius: 0.35em;\">\n",
                            "    first\n",
                            "    <span style=\"font-size: 0.8em; font-weight: bold; line-height: 1; border-radius: 0.35em; vertical-align: middle; margin-left: 0.5rem\">ORDINAL</span>\n",
                            "</mark>\n",
                            " presidential debate.</div>\n",
                            "\n",
                            "<div class=\"entities\" style=\"line-height: 2.5; direction: ltr\">The participants \n",
                            "<mark class=\"entity\" style=\"background: #bfe1d9; padding: 0.45em 0.6em; margin: 0 0.25em; line-height: 1; border-radius: 0.35em;\">\n",
                            "    tonight\n",
                            "    <span style=\"font-size: 0.8em; font-weight: bold; line-height: 1; border-radius: 0.35em; vertical-align: middle; margin-left: 0.5rem\">TIME</span>\n",
                            "</mark>\n",
                            " are \n",
                            "<mark class=\"entity\" style=\"background: #aa9cfc; padding: 0.45em 0.6em; margin: 0 0.25em; line-height: 1; border-radius: 0.35em;\">\n",
                            "    Donald Trump\n",
                            "    <span style=\"font-size: 0.8em; font-weight: bold; line-height: 1; border-radius: 0.35em; vertical-align: middle; margin-left: 0.5rem\">PERSON</span>\n",
                            "</mark>\n",
                            " and \n",
                            "<mark class=\"entity\" style=\"background: #aa9cfc; padding: 0.45em 0.6em; margin: 0 0.25em; line-height: 1; border-radius: 0.35em;\">\n",
                            "    Hillary Clinton\n",
                            "    <span style=\"font-size: 0.8em; font-weight: bold; line-height: 1; border-radius: 0.35em; vertical-align: middle; margin-left: 0.5rem\">PERSON</span>\n",
                            "</mark>\n",
                            ".</div>\n",
                            "\n",
                            "<div class=\"entities\" style=\"line-height: 2.5; direction: ltr\">This debate is sponsored by \n",
                            "<mark class=\"entity\" style=\"background: #7aecec; padding: 0.45em 0.6em; margin: 0 0.25em; line-height: 1; border-radius: 0.35em;\">\n",
                            "    the Commission on Presidential Debates\n",
                            "    <span style=\"font-size: 0.8em; font-weight: bold; line-height: 1; border-radius: 0.35em; vertical-align: middle; margin-left: 0.5rem\">ORG</span>\n",
                            "</mark>\n",
                            ", a nonpartisan, nonprofit organization.</div>\n",
                            "\n",
                            "<div class=\"entities\" style=\"line-height: 2.5; direction: ltr\">The commission drafted \n",
                            "<mark class=\"entity\" style=\"background: #bfe1d9; padding: 0.45em 0.6em; margin: 0 0.25em; line-height: 1; border-radius: 0.35em;\">\n",
                            "    tonight\n",
                            "    <span style=\"font-size: 0.8em; font-weight: bold; line-height: 1; border-radius: 0.35em; vertical-align: middle; margin-left: 0.5rem\">TIME</span>\n",
                            "</mark>\n",
                            "'s format, and the rules have been agreed to by the campaigns.</div>\n",
                            "\n",
                            "<div class=\"entities\" style=\"line-height: 2.5; direction: ltr\">The \n",
                            "<mark class=\"entity\" style=\"background: #bfe1d9; padding: 0.45em 0.6em; margin: 0 0.25em; line-height: 1; border-radius: 0.35em;\">\n",
                            "    90-minute\n",
                            "    <span style=\"font-size: 0.8em; font-weight: bold; line-height: 1; border-radius: 0.35em; vertical-align: middle; margin-left: 0.5rem\">TIME</span>\n",
                            "</mark>\n",
                            " debate is divided into \n",
                            "<mark class=\"entity\" style=\"background: #e4e7d2; padding: 0.45em 0.6em; margin: 0 0.25em; line-height: 1; border-radius: 0.35em;\">\n",
                            "    six\n",
                            "    <span style=\"font-size: 0.8em; font-weight: bold; line-height: 1; border-radius: 0.35em; vertical-align: middle; margin-left: 0.5rem\">CARDINAL</span>\n",
                            "</mark>\n",
                            " segments, each \n",
                            "<mark class=\"entity\" style=\"background: #bfe1d9; padding: 0.45em 0.6em; margin: 0 0.25em; line-height: 1; border-radius: 0.35em;\">\n",
                            "    15 minutes\n",
                            "    <span style=\"font-size: 0.8em; font-weight: bold; line-height: 1; border-radius: 0.35em; vertical-align: middle; margin-left: 0.5rem\">TIME</span>\n",
                            "</mark>\n",
                            " long.</div>\n",
                            "\n",
                            "<div class=\"entities\" style=\"line-height: 2.5; direction: ltr\">We'll explore \n",
                            "<mark class=\"entity\" style=\"background: #e4e7d2; padding: 0.45em 0.6em; margin: 0 0.25em; line-height: 1; border-radius: 0.35em;\">\n",
                            "    three\n",
                            "    <span style=\"font-size: 0.8em; font-weight: bold; line-height: 1; border-radius: 0.35em; vertical-align: middle; margin-left: 0.5rem\">CARDINAL</span>\n",
                            "</mark>\n",
                            " topic areas \n",
                            "<mark class=\"entity\" style=\"background: #bfe1d9; padding: 0.45em 0.6em; margin: 0 0.25em; line-height: 1; border-radius: 0.35em;\">\n",
                            "    tonight\n",
                            "    <span style=\"font-size: 0.8em; font-weight: bold; line-height: 1; border-radius: 0.35em; vertical-align: middle; margin-left: 0.5rem\">TIME</span>\n",
                            "</mark>\n",
                            ": Achieving prosperity; \n",
                            "<mark class=\"entity\" style=\"background: #feca74; padding: 0.45em 0.6em; margin: 0 0.25em; line-height: 1; border-radius: 0.35em;\">\n",
                            "    America\n",
                            "    <span style=\"font-size: 0.8em; font-weight: bold; line-height: 1; border-radius: 0.35em; vertical-align: middle; margin-left: 0.5rem\">GPE</span>\n",
                            "</mark>\n",
                            "'s direction; and securing \n",
                            "<mark class=\"entity\" style=\"background: #feca74; padding: 0.45em 0.6em; margin: 0 0.25em; line-height: 1; border-radius: 0.35em;\">\n",
                            "    America\n",
                            "    <span style=\"font-size: 0.8em; font-weight: bold; line-height: 1; border-radius: 0.35em; vertical-align: middle; margin-left: 0.5rem\">GPE</span>\n",
                            "</mark>\n",
                            ".</div>\n",
                            "\n",
                            "<div class=\"entities\" style=\"line-height: 2.5; direction: ltr\">At the start of each segment, I will ask the same lead-off question to both candidates, and they will each have \n",
                            "<mark class=\"entity\" style=\"background: #bfe1d9; padding: 0.45em 0.6em; margin: 0 0.25em; line-height: 1; border-radius: 0.35em;\">\n",
                            "    up to two minutes\n",
                            "    <span style=\"font-size: 0.8em; font-weight: bold; line-height: 1; border-radius: 0.35em; vertical-align: middle; margin-left: 0.5rem\">TIME</span>\n",
                            "</mark>\n",
                            " to respond.</div>\n",
                            "\n",
                            "<div class=\"entities\" style=\"line-height: 2.5; direction: ltr\">From that point until the end of the segment, we'll have an open discussion.</div>\n",
                            "\n",
                            "<div class=\"entities\" style=\"line-height: 2.5; direction: ltr\">The questions are mine and have not been shared with the commission or the campaigns.</div></span>"
                        ],
                        "text/plain": [
                            "<IPython.core.display.HTML object>"
                        ]
                    },
                    "metadata": {},
                    "output_type": "display_data"
                }
            ],
            "source": [
                "from spacy import displacy\n",
                "displacy.render(annotated[0:10:], jupyter=True, style='ent')\n"
            ]
        },
        {
            "cell_type": "markdown",
            "id": "8c4c1869",
            "metadata": {},
            "source": [
                "### Part 2: Analysis\n",
                "\n",
                "In real-word use cases, NER can be difficult. Analyze the following challenging examples and identify all cases in which the automated NER failed. For the tagging, you can use the method from part 1."
            ]
        },
        {
            "cell_type": "code",
            "execution_count": 7,
            "id": "5d137ddb",
            "metadata": {},
            "outputs": [],
            "source": [
                "# read debates\n",
                "import json\n",
                "with open('data/hard_data.json', 'r') as infile:\n",
                "    data = json.load(infile)\n",
                "\n",
                "test_sentences = [s[\"sentence\"] for s in data['test_sentences']]"
            ]
        },
        {
            "cell_type": "markdown",
            "id": "218f4e2c",
            "metadata": {},
            "source": [
                "Write the failure cases down here, then try to classify them into types of errors that the model makes. Discuss the results.\n",
                "You can use a mixture of markdown and code if it suits your analysis."
            ]
        },
        {
            "cell_type": "code",
            "execution_count": 8,
            "id": "c5f476e0",
            "metadata": {},
            "outputs": [],
            "source": [
                "test_annotated = [nlp(sentence) for sentence in test_sentences]\n",
                "# Your Code Submission goes here"
            ]
        },
        {
            "cell_type": "code",
            "execution_count": 9,
            "id": "df3d7cd5",
            "metadata": {},
            "outputs": [
                {
                    "data": {
                        "text/html": [
                            "<span class=\"tex2jax_ignore\"><div class=\"entities\" style=\"line-height: 2.5; direction: ltr\">Flight booking \n",
                            "<mark class=\"entity\" style=\"background: #e4e7d2; padding: 0.45em 0.6em; margin: 0 0.25em; line-height: 1; border-radius: 0.35em;\">\n",
                            "    1\n",
                            "    <span style=\"font-size: 0.8em; font-weight: bold; line-height: 1; border-radius: 0.35em; vertical-align: middle; margin-left: 0.5rem\">CARDINAL</span>\n",
                            "</mark>\n",
                            ": “So, I would like to fly out sometime \n",
                            "<mark class=\"entity\" style=\"background: #bfe1d9; padding: 0.45em 0.6em; margin: 0 0.25em; line-height: 1; border-radius: 0.35em;\">\n",
                            "    tonight\n",
                            "    <span style=\"font-size: 0.8em; font-weight: bold; line-height: 1; border-radius: 0.35em; vertical-align: middle; margin-left: 0.5rem\">TIME</span>\n",
                            "</mark>\n",
                            " and fly back in the evening in \n",
                            "<mark class=\"entity\" style=\"background: #bfe1d9; padding: 0.45em 0.6em; margin: 0 0.25em; line-height: 1; border-radius: 0.35em;\">\n",
                            "    4 days\n",
                            "    <span style=\"font-size: 0.8em; font-weight: bold; line-height: 1; border-radius: 0.35em; vertical-align: middle; margin-left: 0.5rem\">DATE</span>\n",
                            "</mark>\n",
                            ". From I’m looking to go to \n",
                            "<mark class=\"entity\" style=\"background: #feca74; padding: 0.45em 0.6em; margin: 0 0.25em; line-height: 1; border-radius: 0.35em;\">\n",
                            "    Denver\n",
                            "    <span style=\"font-size: 0.8em; font-weight: bold; line-height: 1; border-radius: 0.35em; vertical-align: middle; margin-left: 0.5rem\">GPE</span>\n",
                            "</mark>\n",
                            ". I’m flying out of \n",
                            "<mark class=\"entity\" style=\"background: #feca74; padding: 0.45em 0.6em; margin: 0 0.25em; line-height: 1; border-radius: 0.35em;\">\n",
                            "    San Francisco\n",
                            "    <span style=\"font-size: 0.8em; font-weight: bold; line-height: 1; border-radius: 0.35em; vertical-align: middle; margin-left: 0.5rem\">GPE</span>\n",
                            "</mark>\n",
                            ".”</div>\n",
                            "\n",
                            "<div class=\"entities\" style=\"line-height: 2.5; direction: ltr\">Flight booking \n",
                            "<mark class=\"entity\" style=\"background: #e4e7d2; padding: 0.45em 0.6em; margin: 0 0.25em; line-height: 1; border-radius: 0.35em;\">\n",
                            "    2\n",
                            "    <span style=\"font-size: 0.8em; font-weight: bold; line-height: 1; border-radius: 0.35em; vertical-align: middle; margin-left: 0.5rem\">CARDINAL</span>\n",
                            "</mark>\n",
                            ": “Okay, you got it so it looks like \n",
                            "<mark class=\"entity\" style=\"background: #7aecec; padding: 0.45em 0.6em; margin: 0 0.25em; line-height: 1; border-radius: 0.35em;\">\n",
                            "    United Airlines\n",
                            "    <span style=\"font-size: 0.8em; font-weight: bold; line-height: 1; border-radius: 0.35em; vertical-align: middle; margin-left: 0.5rem\">ORG</span>\n",
                            "</mark>\n",
                            " leaves at \n",
                            "<mark class=\"entity\" style=\"background: #bfe1d9; padding: 0.45em 0.6em; margin: 0 0.25em; line-height: 1; border-radius: 0.35em;\">\n",
                            "    9:20 p.m.\n",
                            "    <span style=\"font-size: 0.8em; font-weight: bold; line-height: 1; border-radius: 0.35em; vertical-align: middle; margin-left: 0.5rem\">TIME</span>\n",
                            "</mark>\n",
                            " that is nonstop the flight duration is \n",
                            "<mark class=\"entity\" style=\"background: #bfe1d9; padding: 0.45em 0.6em; margin: 0 0.25em; line-height: 1; border-radius: 0.35em;\">\n",
                            "    2 hours and 28 minutes\n",
                            "    <span style=\"font-size: 0.8em; font-weight: bold; line-height: 1; border-radius: 0.35em; vertical-align: middle; margin-left: 0.5rem\">TIME</span>\n",
                            "</mark>\n",
                            " and is priced at $\n",
                            "<mark class=\"entity\" style=\"background: #e4e7d2; padding: 0.45em 0.6em; margin: 0 0.25em; line-height: 1; border-radius: 0.35em;\">\n",
                            "    337\n",
                            "    <span style=\"font-size: 0.8em; font-weight: bold; line-height: 1; border-radius: 0.35em; vertical-align: middle; margin-left: 0.5rem\">MONEY</span>\n",
                            "</mark>\n",
                            ".”</div>\n",
                            "\n",
                            "<div class=\"entities\" style=\"line-height: 2.5; direction: ltr\">Flight booking \n",
                            "<mark class=\"entity\" style=\"background: #e4e7d2; padding: 0.45em 0.6em; margin: 0 0.25em; line-height: 1; border-radius: 0.35em;\">\n",
                            "    3\n",
                            "    <span style=\"font-size: 0.8em; font-weight: bold; line-height: 1; border-radius: 0.35em; vertical-align: middle; margin-left: 0.5rem\">CARDINAL</span>\n",
                            "</mark>\n",
                            ": “I found a flight that leaves \n",
                            "<mark class=\"entity\" style=\"background: #feca74; padding: 0.45em 0.6em; margin: 0 0.25em; line-height: 1; border-radius: 0.35em;\">\n",
                            "    Seattle\n",
                            "    <span style=\"font-size: 0.8em; font-weight: bold; line-height: 1; border-radius: 0.35em; vertical-align: middle; margin-left: 0.5rem\">GPE</span>\n",
                            "</mark>\n",
                            " coming \n",
                            "<mark class=\"entity\" style=\"background: #bfe1d9; padding: 0.45em 0.6em; margin: 0 0.25em; line-height: 1; border-radius: 0.35em;\">\n",
                            "    Monday\n",
                            "    <span style=\"font-size: 0.8em; font-weight: bold; line-height: 1; border-radius: 0.35em; vertical-align: middle; margin-left: 0.5rem\">DATE</span>\n",
                            "</mark>\n",
                            " at 7:35 a.m and arrives in \n",
                            "<mark class=\"entity\" style=\"background: #feca74; padding: 0.45em 0.6em; margin: 0 0.25em; line-height: 1; border-radius: 0.35em;\">\n",
                            "    Tampa\n",
                            "    <span style=\"font-size: 0.8em; font-weight: bold; line-height: 1; border-radius: 0.35em; vertical-align: middle; margin-left: 0.5rem\">GPE</span>\n",
                            "</mark>\n",
                            " at \n",
                            "<mark class=\"entity\" style=\"background: #bfe1d9; padding: 0.45em 0.6em; margin: 0 0.25em; line-height: 1; border-radius: 0.35em;\">\n",
                            "    4:10 p.m.\n",
                            "    <span style=\"font-size: 0.8em; font-weight: bold; line-height: 1; border-radius: 0.35em; vertical-align: middle; margin-left: 0.5rem\">TIME</span>\n",
                            "</mark>\n",
                            "”</div>\n",
                            "\n",
                            "<div class=\"entities\" style=\"line-height: 2.5; direction: ltr\">Hotel booking \n",
                            "<mark class=\"entity\" style=\"background: #e4e7d2; padding: 0.45em 0.6em; margin: 0 0.25em; line-height: 1; border-radius: 0.35em;\">\n",
                            "    1\n",
                            "    <span style=\"font-size: 0.8em; font-weight: bold; line-height: 1; border-radius: 0.35em; vertical-align: middle; margin-left: 0.5rem\">CARDINAL</span>\n",
                            "</mark>\n",
                            ": “\n",
                            "<mark class=\"entity\" style=\"background: #f0d0ff; padding: 0.45em 0.6em; margin: 0 0.25em; line-height: 1; border-radius: 0.35em;\">\n",
                            "    Park Hyatt Aviara\n",
                            "    <span style=\"font-size: 0.8em; font-weight: bold; line-height: 1; border-radius: 0.35em; vertical-align: middle; margin-left: 0.5rem\">WORK_OF_ART</span>\n",
                            "</mark>\n",
                            " resort \n",
                            "<mark class=\"entity\" style=\"background: #7aecec; padding: 0.45em 0.6em; margin: 0 0.25em; line-height: 1; border-radius: 0.35em;\">\n",
                            "    Golf Club\n",
                            "    <span style=\"font-size: 0.8em; font-weight: bold; line-height: 1; border-radius: 0.35em; vertical-align: middle; margin-left: 0.5rem\">ORG</span>\n",
                            "</mark>\n",
                            " and Spa, it’s $\n",
                            "<mark class=\"entity\" style=\"background: #e4e7d2; padding: 0.45em 0.6em; margin: 0 0.25em; line-height: 1; border-radius: 0.35em;\">\n",
                            "    279\n",
                            "    <span style=\"font-size: 0.8em; font-weight: bold; line-height: 1; border-radius: 0.35em; vertical-align: middle; margin-left: 0.5rem\">MONEY</span>\n",
                            "</mark>\n",
                            " per night. It‘s rated \n",
                            "<mark class=\"entity\" style=\"background: #e4e7d2; padding: 0.45em 0.6em; margin: 0 0.25em; line-height: 1; border-radius: 0.35em;\">\n",
                            "    4.8\n",
                            "    <span style=\"font-size: 0.8em; font-weight: bold; line-height: 1; border-radius: 0.35em; vertical-align: middle; margin-left: 0.5rem\">CARDINAL</span>\n",
                            "</mark>\n",
                            " stars. Resort offering an \n",
                            "<mark class=\"entity\" style=\"background: #e4e7d2; padding: 0.45em 0.6em; margin: 0 0.25em; line-height: 1; border-radius: 0.35em;\">\n",
                            "    18\n",
                            "    <span style=\"font-size: 0.8em; font-weight: bold; line-height: 1; border-radius: 0.35em; vertical-align: middle; margin-left: 0.5rem\">CARDINAL</span>\n",
                            "</mark>\n",
                            "-hole golf course, an outdoor pool &amp; tennis courts plus a spa &amp; fine dining.”</div>\n",
                            "\n",
                            "<div class=\"entities\" style=\"line-height: 2.5; direction: ltr\">Hotel booking \n",
                            "<mark class=\"entity\" style=\"background: #e4e7d2; padding: 0.45em 0.6em; margin: 0 0.25em; line-height: 1; border-radius: 0.35em;\">\n",
                            "    2\n",
                            "    <span style=\"font-size: 0.8em; font-weight: bold; line-height: 1; border-radius: 0.35em; vertical-align: middle; margin-left: 0.5rem\">CARDINAL</span>\n",
                            "</mark>\n",
                            ": “\n",
                            "<mark class=\"entity\" style=\"background: #f0d0ff; padding: 0.45em 0.6em; margin: 0 0.25em; line-height: 1; border-radius: 0.35em;\">\n",
                            "    Staybridge Suites Carlsbad\n",
                            "    <span style=\"font-size: 0.8em; font-weight: bold; line-height: 1; border-radius: 0.35em; vertical-align: middle; margin-left: 0.5rem\">WORK_OF_ART</span>\n",
                            "</mark>\n",
                            ", it’s $\n",
                            "<mark class=\"entity\" style=\"background: #e4e7d2; padding: 0.45em 0.6em; margin: 0 0.25em; line-height: 1; border-radius: 0.35em;\">\n",
                            "    145\n",
                            "    <span style=\"font-size: 0.8em; font-weight: bold; line-height: 1; border-radius: 0.35em; vertical-align: middle; margin-left: 0.5rem\">MONEY</span>\n",
                            "</mark>\n",
                            " per night. It’s rated \n",
                            "<mark class=\"entity\" style=\"background: #e4e7d2; padding: 0.45em 0.6em; margin: 0 0.25em; line-height: 1; border-radius: 0.35em;\">\n",
                            "    4.5\n",
                            "    <span style=\"font-size: 0.8em; font-weight: bold; line-height: 1; border-radius: 0.35em; vertical-align: middle; margin-left: 0.5rem\">CARDINAL</span>\n",
                            "</mark>\n",
                            " stars. Warm suites with kitchens in a relaxed property featuring an outdoor pool, a gym &amp; a \n",
                            "<mark class=\"entity\" style=\"background: #7aecec; padding: 0.45em 0.6em; margin: 0 0.25em; line-height: 1; border-radius: 0.35em;\">\n",
                            "    BBQ\n",
                            "    <span style=\"font-size: 0.8em; font-weight: bold; line-height: 1; border-radius: 0.35em; vertical-align: middle; margin-left: 0.5rem\">ORG</span>\n",
                            "</mark>\n",
                            " area.”</div>\n",
                            "\n",
                            "<div class=\"entities\" style=\"line-height: 2.5; direction: ltr\">Cinema \n",
                            "<mark class=\"entity\" style=\"background: #e4e7d2; padding: 0.45em 0.6em; margin: 0 0.25em; line-height: 1; border-radius: 0.35em;\">\n",
                            "    1\n",
                            "    <span style=\"font-size: 0.8em; font-weight: bold; line-height: 1; border-radius: 0.35em; vertical-align: middle; margin-left: 0.5rem\">CARDINAL</span>\n",
                            "</mark>\n",
                            ": “The \n",
                            "<mark class=\"entity\" style=\"background: #bfeeb7; padding: 0.45em 0.6em; margin: 0 0.25em; line-height: 1; border-radius: 0.35em;\">\n",
                            "    Mummy\n",
                            "    <span style=\"font-size: 0.8em; font-weight: bold; line-height: 1; border-radius: 0.35em; vertical-align: middle; margin-left: 0.5rem\">PRODUCT</span>\n",
                            "</mark>\n",
                            " is playing at \n",
                            "<mark class=\"entity\" style=\"background: #bfe1d9; padding: 0.45em 0.6em; margin: 0 0.25em; line-height: 1; border-radius: 0.35em;\">\n",
                            "    4:30 pm this afternoon\n",
                            "    <span style=\"font-size: 0.8em; font-weight: bold; line-height: 1; border-radius: 0.35em; vertical-align: middle; margin-left: 0.5rem\">TIME</span>\n",
                            "</mark>\n",
                            " at \n",
                            "<mark class=\"entity\" style=\"background: #9cc9cc; padding: 0.45em 0.6em; margin: 0 0.25em; line-height: 1; border-radius: 0.35em;\">\n",
                            "    Regal Davis Stadium\n",
                            "    <span style=\"font-size: 0.8em; font-weight: bold; line-height: 1; border-radius: 0.35em; vertical-align: middle; margin-left: 0.5rem\">FAC</span>\n",
                            "</mark>\n",
                            " 5.”</div>\n",
                            "\n",
                            "<div class=\"entities\" style=\"line-height: 2.5; direction: ltr\">Cinema \n",
                            "<mark class=\"entity\" style=\"background: #e4e7d2; padding: 0.45em 0.6em; margin: 0 0.25em; line-height: 1; border-radius: 0.35em;\">\n",
                            "    2\n",
                            "    <span style=\"font-size: 0.8em; font-weight: bold; line-height: 1; border-radius: 0.35em; vertical-align: middle; margin-left: 0.5rem\">CARDINAL</span>\n",
                            "</mark>\n",
                            ": “I have \n",
                            "<mark class=\"entity\" style=\"background: #c887fb; padding: 0.45em 0.6em; margin: 0 0.25em; line-height: 1; border-radius: 0.35em;\">\n",
                            "    Chips\n",
                            "    <span style=\"font-size: 0.8em; font-weight: bold; line-height: 1; border-radius: 0.35em; vertical-align: middle; margin-left: 0.5rem\">NORP</span>\n",
                            "</mark>\n",
                            " playing at \n",
                            "<mark class=\"entity\" style=\"background: #bfe1d9; padding: 0.45em 0.6em; margin: 0 0.25em; line-height: 1; border-radius: 0.35em;\">\n",
                            "    9:50 PM\n",
                            "    <span style=\"font-size: 0.8em; font-weight: bold; line-height: 1; border-radius: 0.35em; vertical-align: middle; margin-left: 0.5rem\">TIME</span>\n",
                            "</mark>\n",
                            ". I have Get Out playing at \n",
                            "<mark class=\"entity\" style=\"background: #bfe1d9; padding: 0.45em 0.6em; margin: 0 0.25em; line-height: 1; border-radius: 0.35em;\">\n",
                            "    10:15 PM\n",
                            "    <span style=\"font-size: 0.8em; font-weight: bold; line-height: 1; border-radius: 0.35em; vertical-align: middle; margin-left: 0.5rem\">TIME</span>\n",
                            "</mark>\n",
                            ". and \n",
                            "<mark class=\"entity\" style=\"background: #feca74; padding: 0.45em 0.6em; margin: 0 0.25em; line-height: 1; border-radius: 0.35em;\">\n",
                            "    Snaps\n",
                            "    <span style=\"font-size: 0.8em; font-weight: bold; line-height: 1; border-radius: 0.35em; vertical-align: middle; margin-left: 0.5rem\">GPE</span>\n",
                            "</mark>\n",
                            " playing at \n",
                            "<mark class=\"entity\" style=\"background: #bfe1d9; padding: 0.45em 0.6em; margin: 0 0.25em; line-height: 1; border-radius: 0.35em;\">\n",
                            "    10:25 PM\n",
                            "    <span style=\"font-size: 0.8em; font-weight: bold; line-height: 1; border-radius: 0.35em; vertical-align: middle; margin-left: 0.5rem\">TIME</span>\n",
                            "</mark>\n",
                            ".”</div>\n",
                            "\n",
                            "<div class=\"entities\" style=\"line-height: 2.5; direction: ltr\">Music \n",
                            "<mark class=\"entity\" style=\"background: #e4e7d2; padding: 0.45em 0.6em; margin: 0 0.25em; line-height: 1; border-radius: 0.35em;\">\n",
                            "    1\n",
                            "    <span style=\"font-size: 0.8em; font-weight: bold; line-height: 1; border-radius: 0.35em; vertical-align: middle; margin-left: 0.5rem\">CARDINAL</span>\n",
                            "</mark>\n",
                            ": “Here’s a song diamonds originally by \n",
                            "<mark class=\"entity\" style=\"background: #aa9cfc; padding: 0.45em 0.6em; margin: 0 0.25em; line-height: 1; border-radius: 0.35em;\">\n",
                            "    Rihanna Cover\n",
                            "    <span style=\"font-size: 0.8em; font-weight: bold; line-height: 1; border-radius: 0.35em; vertical-align: middle; margin-left: 0.5rem\">PERSON</span>\n",
                            "</mark>\n",
                            " by \n",
                            "<mark class=\"entity\" style=\"background: #e4e7d2; padding: 0.45em 0.6em; margin: 0 0.25em; line-height: 1; border-radius: 0.35em;\">\n",
                            "    One\n",
                            "    <span style=\"font-size: 0.8em; font-weight: bold; line-height: 1; border-radius: 0.35em; vertical-align: middle; margin-left: 0.5rem\">CARDINAL</span>\n",
                            "</mark>\n",
                            " \n",
                            "<mark class=\"entity\" style=\"background: #7aecec; padding: 0.45em 0.6em; margin: 0 0.25em; line-height: 1; border-radius: 0.35em;\">\n",
                            "    Voice Children’s Choir\n",
                            "    <span style=\"font-size: 0.8em; font-weight: bold; line-height: 1; border-radius: 0.35em; vertical-align: middle; margin-left: 0.5rem\">ORG</span>\n",
                            "</mark>\n",
                            ".”</div>\n",
                            "\n",
                            "<div class=\"entities\" style=\"line-height: 2.5; direction: ltr\">Restaurant \n",
                            "<mark class=\"entity\" style=\"background: #e4e7d2; padding: 0.45em 0.6em; margin: 0 0.25em; line-height: 1; border-radius: 0.35em;\">\n",
                            "    1\n",
                            "    <span style=\"font-size: 0.8em; font-weight: bold; line-height: 1; border-radius: 0.35em; vertical-align: middle; margin-left: 0.5rem\">CARDINAL</span>\n",
                            "</mark>\n",
                            ": “Hi, currently I’m in \n",
                            "<mark class=\"entity\" style=\"background: #7aecec; padding: 0.45em 0.6em; margin: 0 0.25em; line-height: 1; border-radius: 0.35em;\">\n",
                            "    IKEA\n",
                            "    <span style=\"font-size: 0.8em; font-weight: bold; line-height: 1; border-radius: 0.35em; vertical-align: middle; margin-left: 0.5rem\">ORG</span>\n",
                            "</mark>\n",
                            ", \n",
                            "<mark class=\"entity\" style=\"background: #feca74; padding: 0.45em 0.6em; margin: 0 0.25em; line-height: 1; border-radius: 0.35em;\">\n",
                            "    California\n",
                            "    <span style=\"font-size: 0.8em; font-weight: bold; line-height: 1; border-radius: 0.35em; vertical-align: middle; margin-left: 0.5rem\">GPE</span>\n",
                            "</mark>\n",
                            ". I’m looking for restaurant to eat dinner.”</div>\n",
                            "\n",
                            "<div class=\"entities\" style=\"line-height: 2.5; direction: ltr\">Restaurant 2: “I found a highly rated restaurant called \n",
                            "<mark class=\"entity\" style=\"background: #7aecec; padding: 0.45em 0.6em; margin: 0 0.25em; line-height: 1; border-radius: 0.35em;\">\n",
                            "    Second Floor\n",
                            "    <span style=\"font-size: 0.8em; font-weight: bold; line-height: 1; border-radius: 0.35em; vertical-align: middle; margin-left: 0.5rem\">ORG</span>\n",
                            "</mark>\n",
                            " in \n",
                            "<mark class=\"entity\" style=\"background: #feca74; padding: 0.45em 0.6em; margin: 0 0.25em; line-height: 1; border-radius: 0.35em;\">\n",
                            "    Kitchen\n",
                            "    <span style=\"font-size: 0.8em; font-weight: bold; line-height: 1; border-radius: 0.35em; vertical-align: middle; margin-left: 0.5rem\">GPE</span>\n",
                            "</mark>\n",
                            ", it is \n",
                            "<mark class=\"entity\" style=\"background: #e4e7d2; padding: 0.45em 0.6em; margin: 0 0.25em; line-height: 1; border-radius: 0.35em;\">\n",
                            "    4.3\n",
                            "    <span style=\"font-size: 0.8em; font-weight: bold; line-height: 1; border-radius: 0.35em; vertical-align: middle; margin-left: 0.5rem\">CARDINAL</span>\n",
                            "</mark>\n",
                            " stars out of \n",
                            "<mark class=\"entity\" style=\"background: #e4e7d2; padding: 0.45em 0.6em; margin: 0 0.25em; line-height: 1; border-radius: 0.35em;\">\n",
                            "    5\n",
                            "    <span style=\"font-size: 0.8em; font-weight: bold; line-height: 1; border-radius: 0.35em; vertical-align: middle; margin-left: 0.5rem\">CARDINAL</span>\n",
                            "</mark>\n",
                            " and it’s described is \n",
                            "<mark class=\"entity\" style=\"background: #c887fb; padding: 0.45em 0.6em; margin: 0 0.25em; line-height: 1; border-radius: 0.35em;\">\n",
                            "    New American\n",
                            "    <span style=\"font-size: 0.8em; font-weight: bold; line-height: 1; border-radius: 0.35em; vertical-align: middle; margin-left: 0.5rem\">NORP</span>\n",
                            "</mark>\n",
                            " tasting menus in a sophisticated setting. How does it sound?”</div></span>"
                        ],
                        "text/plain": [
                            "<IPython.core.display.HTML object>"
                        ]
                    },
                    "metadata": {},
                    "output_type": "display_data"
                }
            ],
            "source": [
                "from spacy import displacy\n",
                "displacy.render(test_annotated[0:10:], jupyter=True, style='ent')\n"
            ]
        },
        {
            "cell_type": "markdown",
            "id": "8c9292b4",
            "metadata": {},
            "source": [
                "---"
            ]
        },
        {
            "cell_type": "markdown",
            "id": "8f66d3d7",
            "metadata": {},
            "source": [
                "#### Submitting your results:\n",
                "\n",
                "To submit your results, please:\n",
                "\n",
                "- save this file, i.e., `ex??_assignment.ipynb`.\n",
                "- if you reference any external files (e.g., images), please create a zip or rar archieve and put the notebook files and all referenced files in there.\n",
                "- login to ILIAS and submit the `*.ipynb` or archive for the corresponding assignment."
            ]
        },
        {
            "cell_type": "markdown",
            "id": "1462df41",
            "metadata": {},
            "source": [
                "**Remarks:**\n",
                "    \n",
                "- Do not copy any code from the Internet. In case you want to use publicly available code, please, add the reference to the respective code snippet.\n",
                "- Check your code compiles and executes, even after you have restarted the Kernel.\n",
                "- Submit your written solutions and the coding exercises within the provided spaces and not otherwise.\n",
                "- Write the names of your partner and your name in the top section."
            ]
        }
    ],
    "metadata": {
        "kernelspec": {
            "display_name": "Python 3 (ipykernel)",
            "language": "python",
            "name": "python3"
        },
        "language_info": {
            "codemirror_mode": {
                "name": "ipython",
                "version": 3
            },
            "file_extension": ".py",
            "mimetype": "text/x-python",
            "name": "python",
            "nbconvert_exporter": "python",
            "pygments_lexer": "ipython3",
            "version": "3.10.8"
        },
        "pycharm": {
            "stem_cell": {
                "cell_type": "raw",
                "metadata": {
                    "collapsed": false
                },
                "source": []
            }
        }
    },
    "nbformat": 4,
    "nbformat_minor": 5
}
