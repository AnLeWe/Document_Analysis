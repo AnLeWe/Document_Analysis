{
    "cells": [
        {
            "cell_type": "markdown",
            "id": "9edfbc7b",
            "metadata": {},
            "source": [
                "## Document Analysis: Computational Methods - Summer Term 2025\n",
                "### Lectures: Jun.-Prof. Dr. Andreas Spitz\n",
                "### Tutorials: Julian Schelb"
            ]
        },
        {
            "cell_type": "markdown",
            "id": "b5fe5c1e",
            "metadata": {},
            "source": [
                "# Exercise 04"
            ]
        },
        {
            "cell_type": "markdown",
            "id": "c5fc5949",
            "metadata": {},
            "source": [
                "- NLP Recap\n",
                "- Entity Recognition"
            ]
        },
        {
            "cell_type": "markdown",
            "id": "38240a1f",
            "metadata": {},
            "source": [
                "---"
            ]
        },
        {
            "cell_type": "markdown",
            "id": "4f62eba3",
            "metadata": {
                "tags": []
            },
            "source": [
                "## Task 1 - NLP Recap:"
            ]
        },
        {
            "cell_type": "markdown",
            "id": "27cd210b",
            "metadata": {
                "jupyter": {
                    "source_hidden": true
                },
                "tags": []
            },
            "source": [
                "## Q & A\n",
                "\n",
                "Give answers to the following question. If you like, you can treat it as exam preparation, e.g., first try to solve the question without help of the slides ;) But you are obviously allowed to use the slides at any time\n"
            ]
        },
        {
            "cell_type": "markdown",
            "id": "b94e2d70",
            "metadata": {},
            "source": [
                "(1) Name three reasons why natural language processing (NLP) is challenging"
            ]
        },
        {
            "cell_type": "markdown",
            "id": "50419894",
            "metadata": {},
            "source": [
                "- Ambiguity\n",
                "- differing syntacitical and semantical rules across languages\n",
                "- "
            ]
        },
        {
            "cell_type": "markdown",
            "id": "f074a9f0",
            "metadata": {},
            "source": [
                "---"
            ]
        },
        {
            "cell_type": "markdown",
            "id": "4ccec244",
            "metadata": {},
            "source": [
                "(2) What is tokenization?"
            ]
        },
        {
            "cell_type": "markdown",
            "id": "f981b551",
            "metadata": {},
            "source": [
                "Splitting text into smaller entites, usually words, but can also be sentences."
            ]
        },
        {
            "cell_type": "markdown",
            "id": "114dca55",
            "metadata": {},
            "source": [
                "---"
            ]
        },
        {
            "cell_type": "markdown",
            "id": "934b6559",
            "metadata": {},
            "source": [
                "(3) What is a word stem? Give the stem of the word \"undoes\""
            ]
        },
        {
            "cell_type": "markdown",
            "id": "41b7096e",
            "metadata": {},
            "source": [
                "do? without the prefix and the inflection."
            ]
        },
        {
            "cell_type": "markdown",
            "id": "5592f81f",
            "metadata": {},
            "source": [
                "---"
            ]
        },
        {
            "cell_type": "markdown",
            "id": "10e6aa99",
            "metadata": {},
            "source": [
                "(4) What is a word lemma? Give the lemma of the word \"undoes\""
            ]
        },
        {
            "cell_type": "markdown",
            "id": "d70dbb28",
            "metadata": {},
            "source": [
                "undo"
            ]
        },
        {
            "cell_type": "markdown",
            "id": "58671134",
            "metadata": {},
            "source": [
                "---"
            ]
        },
        {
            "cell_type": "markdown",
            "id": "6af49695",
            "metadata": {
                "tags": []
            },
            "source": [
                "(5) Why should we typically extract word stems/lemmas before preceding with text analysis?"
            ]
        },
        {
            "cell_type": "markdown",
            "id": "26f7007f",
            "metadata": {},
            "source": [
                "to normalize them, to entfern inflection/declination/ other word forms."
            ]
        },
        {
            "cell_type": "markdown",
            "id": "094292f7",
            "metadata": {},
            "source": [
                "---"
            ]
        },
        {
            "cell_type": "markdown",
            "id": "b4a4f7aa",
            "metadata": {},
            "source": [
                "(6) What are stop-words? Why it makes sense to remove stop-words before preceding with text analysis?"
            ]
        },
        {
            "cell_type": "markdown",
            "id": "03de88c4",
            "metadata": {},
            "source": [
                "stopwords are mostly functions words that bear no semantic meaning and/or words that occur with a very high frequency in a language, thus overpowering the content/words we are actually interested in."
            ]
        },
        {
            "cell_type": "markdown",
            "id": "a119ae62",
            "metadata": {},
            "source": [
                "---"
            ]
        },
        {
            "cell_type": "markdown",
            "id": "7493dfd1",
            "metadata": {},
            "source": [
                "(7) If you had access to frequency statistics for a language, how could you create a list of stop words?"
            ]
        },
        {
            "cell_type": "markdown",
            "id": "7c1dced2",
            "metadata": {},
            "source": [
                "The moste frequent words are most likely stopwords?"
            ]
        },
        {
            "cell_type": "markdown",
            "id": "ab068e2c",
            "metadata": {},
            "source": [
                "---"
            ]
        },
        {
            "cell_type": "markdown",
            "id": "6605debd",
            "metadata": {},
            "source": [
                "(8) Name a use-case in which we should NOT remove stop-words prior to text analysis."
            ]
        },
        {
            "cell_type": "markdown",
            "id": "c58bbb6d",
            "metadata": {},
            "source": [
                "when we need context, want to parse text and build trees?"
            ]
        },
        {
            "cell_type": "markdown",
            "id": "a641d836",
            "metadata": {},
            "source": [
                "---"
            ]
        },
        {
            "cell_type": "markdown",
            "id": "99d1855b",
            "metadata": {},
            "source": [
                "(9) What is part-of-speech (POS) tagging? Why is it useful?"
            ]
        },
        {
            "cell_type": "markdown",
            "id": "85c19281",
            "metadata": {},
            "source": [
                "tagging words with their word types helps to "
            ]
        },
        {
            "cell_type": "markdown",
            "id": "45edd1d8",
            "metadata": {},
            "source": [
                "---"
            ]
        },
        {
            "cell_type": "markdown",
            "id": "b782d611",
            "metadata": {},
            "source": [
                "(10) Explain how n-gram POS tagging works. What is the limitation of this method?"
            ]
        },
        {
            "cell_type": "markdown",
            "id": "7423a5e0",
            "metadata": {},
            "source": [
                "<font color='ff000000'>\\# TEXT SUBMISSION ANSWER HERE (Double click to edit)</font>"
            ]
        },
        {
            "cell_type": "markdown",
            "id": "ce7f413f",
            "metadata": {},
            "source": [
                "---"
            ]
        },
        {
            "cell_type": "markdown",
            "id": "224e62ac",
            "metadata": {},
            "source": [
                "(11) What is parsing? Which two main types of parsing exist?"
            ]
        },
        {
            "cell_type": "markdown",
            "id": "912f9049",
            "metadata": {},
            "source": [
                "<font color='ff000000'>\\# TEXT SUBMISSION ANSWER HERE (Double click to edit)</font>"
            ]
        },
        {
            "cell_type": "markdown",
            "id": "7e9b5c25",
            "metadata": {},
            "source": [
                "---"
            ]
        },
        {
            "cell_type": "markdown",
            "id": "8900c79f",
            "metadata": {},
            "source": [
                "(12) What is the difference between a context-free and a context-sensitive language? What is the difference between a context-free and a regular language?"
            ]
        },
        {
            "cell_type": "markdown",
            "id": "6c5d2b06",
            "metadata": {},
            "source": [
                "<font color='ff000000'>\\# TEXT SUBMISSION ANSWER HERE (Double click to edit)</font>"
            ]
        },
        {
            "cell_type": "markdown",
            "id": "09dcf220",
            "metadata": {},
            "source": [
                "---"
            ]
        },
        {
            "cell_type": "markdown",
            "id": "46441c44",
            "metadata": {},
            "source": [
                "(13) Give an equivalent grammar in Chomsky Normal form for the Grammar G=(N,T,P,S) with N={S,A,B,C}, T={a,b,c}, P={S->ABC, A->a, B->b, C->c}"
            ]
        },
        {
            "cell_type": "markdown",
            "id": "a072fc99",
            "metadata": {},
            "source": [
                "N = {S,A,B,C,D}, T={a,b,c},P = {S -> AD, D -> BC, A -> a, B -> b, C -> c } "
            ]
        },
        {
            "cell_type": "markdown",
            "id": "becf2901",
            "metadata": {},
            "source": [
                "---"
            ]
        },
        {
            "cell_type": "markdown",
            "id": "799529c6",
            "metadata": {},
            "source": [
                "(14) Explain how shift-reduce parsing works."
            ]
        },
        {
            "cell_type": "markdown",
            "id": "3cde835a",
            "metadata": {},
            "source": [
                "<font color='ff000000'>\\# TEXT SUBMISSION ANSWER HERE (Double click to edit)</font>"
            ]
        },
        {
            "cell_type": "markdown",
            "id": "565c26d0",
            "metadata": {},
            "source": [
                "---"
            ]
        },
        {
            "cell_type": "markdown",
            "id": "d573a0eb",
            "metadata": {},
            "source": [
                "(15) What is the grammar ambiguity problem?"
            ]
        },
        {
            "cell_type": "markdown",
            "id": "fb46149f",
            "metadata": {},
            "source": [
                "<font color='ff000000'>\\# TEXT SUBMISSION ANSWER HERE (Double click to edit)</font>"
            ]
        },
        {
            "cell_type": "markdown",
            "id": "645d5351",
            "metadata": {},
            "source": [
                "---"
            ]
        },
        {
            "cell_type": "markdown",
            "id": "0bb4506f",
            "metadata": {},
            "source": [
                "## Task 2 - Named Entity Recognition:"
            ]
        },
        {
            "cell_type": "markdown",
            "id": "bc81306c",
            "metadata": {
                "tags": []
            },
            "source": [
                "### Part 1: Automated Annotations\n",
                "\n",
                "Use Spacy to annotate entities in the debates dataset (available as part of the JSON in the data directory). [Depending on your computer, the extraction may take some time. Therefore, you are allowed to restrict the size of the text, e.g. to the first 250 sentences. Feel free to use a larger share of data to get better insights.]\n",
                "\n",
                "Tip: Use the en_core_web_sm corpus\n",
                "\n",
                "Display the results in readable form, e.g. show the tagged entities for a reasonably sized part of the data, idealy alongside the original text."
            ]
        },
        {
            "cell_type": "code",
            "execution_count": 1,
            "id": "f46aad15",
            "metadata": {},
            "outputs": [
                {
                    "name": "stdout",
                    "output_type": "stream",
                    "text": [
                        "zsh:1: command not found: python\n"
                    ]
                }
            ],
            "source": [
                "# Tip for Spacy: In order to load a dataset, you might need to download the dataset via command line. \n",
                "#Inside of a notebook, you can run commands with a !-mark\n",
                "\n",
                "#Similar to: !python ...\n",
                "!python -m spacy "
            ]
        },
        {
            "cell_type": "code",
            "execution_count": 2,
            "id": "7ee8ac24",
            "metadata": {},
            "outputs": [],
            "source": [
                "# read debates\n",
                "import json\n",
                "with open('data/texts.json', 'r') as infile:\n",
                "    data = json.load(infile)\n",
                "\n",
                "content_debates = data['debates']"
            ]
        },
        {
            "cell_type": "code",
            "execution_count": 3,
            "id": "698b1378",
            "metadata": {},
            "outputs": [
                {
                    "name": "stdout",
                    "output_type": "stream",
                    "text": [
                        "Noun phrases:  [(' Good evening', 'NP'), ('Hofstra University', 'NP'), ('Hempstead', 'NP'), ('I', 'NP'), ('Lester Holt', 'NP'), ('anchor', 'NP'), ('\"NBC Nightly News', 'NP'), ('I', 'NP'), ('you', 'NP'), ('the first presidential debate', 'NP'), ('The participants', 'NP'), ('Donald Trump', 'NP'), ('Hillary Clinton', 'NP'), ('This debate', 'NP'), ('the Commission', 'NP'), ('Presidential Debates', 'NP'), ('a nonpartisan, nonprofit organization', 'NP'), ('The commission', 'NP'), (\"tonight's format\", 'NP'), ('the rules', 'NP'), ('the campaigns', 'NP'), ('The 90-minute debate', 'NP'), ('six segments', 'NP'), ('We', 'NP'), ('three topic areas', 'NP'), ('prosperity', 'NP'), (\"America's direction\", 'NP'), ('America', 'NP'), ('the start', 'NP'), ('each segment', 'NP'), ('I', 'NP'), ('the same lead-off question', 'NP'), ('both candidates', 'NP'), ('they', 'NP'), ('up to two minutes', 'NP'), ('that point', 'NP'), ('the end', 'NP'), ('the segment', 'NP'), ('we', 'NP'), ('an open discussion', 'NP'), ('The questions', 'NP'), ('mine', 'NP'), ('the commission', 'NP'), ('the campaigns', 'NP'), ('The audience', 'NP'), ('the room', 'NP'), ('we', 'NP'), ('what', 'NP'), ('the candidates', 'NP'), ('I', 'NP'), ('you', 'NP'), ('this moment', 'NP'), ('we', 'NP'), ('the candidates', 'NP'), ('president', 'NP'), ('the United States', 'NP'), ('Hillary Clinton', 'NP'), ('president', 'NP'), ('the United States', 'NP'), ('Donald J. Trump', 'NP'), ('(APPLAUSE', 'NP'), ('you', 'NP'), ('(APPLAUSE', 'NP'), ('Good luck', 'NP'), ('you', 'NP'), ('(APPLAUSE', 'NP'), ('I', 'NP'), ('us', 'NP'), ('all the issues', 'NP'), ('this campaign', 'NP'), ('I', 'NP'), ('everyone', 'NP'), ('two more presidential debates', 'NP'), ('We', 'NP'), ('the issues', 'NP'), ('that', 'NP'), ('voters', 'NP'), ('us', 'NP'), ('we', 'NP'), ('specifics', 'NP'), ('I', 'NP'), ('this role', 'NP'), ('this evening', 'NP'), ('the candidates', 'NP'), ('the American people', 'NP'), ('we', 'NP'), ('you', 'NP'), ('your policies', 'NP'), ('your positions', 'NP'), (\"'s\", 'NP'), ('we', 'NP'), ('this opening segment', 'NP'), ('Prosperity', 'NP'), ('that', 'NP'), ('jobs', 'NP'), ('two economic realities', 'NP'), ('America', 'NP'), ('a record six straight years', 'NP'), ('job growth', 'NP'), ('new census numbers', 'NP'), ('incomes', 'NP'), ('a record rate', 'NP'), ('years', 'NP'), ('stagnation', 'NP'), ('income inequality', 'NP'), ('nearly half', 'NP'), ('Americans', 'NP'), ('paycheck', 'NP'), ('paycheck', 'NP'), ('you', 'NP'), ('you', 'NP'), ('a better choice', 'NP'), ('your opponent', 'NP'), ('the kinds', 'NP'), ('jobs', 'NP'), ('that', 'NP'), ('more money', 'NP'), ('the pockets', 'NP'), ('American works', 'NP'), ('you', 'NP'), ('Lester', 'NP'), ('thanks', 'NP'), ('Hofstra', 'NP'), ('us', 'NP'), ('The central question', 'NP'), ('this election', 'NP'), ('what kind', 'NP'), ('country', 'NP'), ('we', 'NP'), ('what kind', 'NP'), ('future', 'NP'), ('we', 'NP'), ('Today', 'NP'), (\"my granddaughter's second birthday\", 'NP'), ('I', 'NP'), ('this', 'NP'), ('we', 'NP'), ('an economy', 'NP'), ('that', 'NP'), ('everyone', 'NP'), ('not just those', 'NP'), ('the top', 'NP'), ('That', 'NP'), ('we', 'NP'), ('new jobs', 'NP'), ('good jobs', 'NP'), ('rising incomes', 'NP'), ('I', 'NP'), ('us', 'NP'), ('you', 'NP'), ('I', 'NP'), ('us', 'NP'), ('your future', 'NP'), ('That', 'NP'), ('jobs', 'NP'), ('infrastructure', 'NP'), ('advanced manufacturing', 'NP'), ('innovation', 'NP'), ('technology', 'NP'), ('clean, renewable energy', 'NP'), ('small business', 'NP'), ('the new jobs', 'NP'), ('small business', 'NP'), ('We', 'NP'), ('the economy', 'NP'), ('That', 'NP'), ('the national minimum wage', 'NP'), ('equal pay', 'NP'), (\"women's work\", 'NP'), ('I', 'NP'), ('more companies', 'NP'), ('profit-sharing', 'NP'), ('you', 'NP'), ('the profits', 'NP'), ('you', 'NP'), ('them', 'NP'), ('not just the executives', 'NP'), ('the top', 'NP'), ('I', 'NP'), ('us', 'NP'), ('people', 'NP'), ('who', 'NP'), ('family', 'NP'), ('work', 'NP'), ('I', 'NP'), ('you', 'NP'), ('the difficult choices', 'NP'), ('you', 'NP'), ('the stresses', 'NP'), ('you', 'NP'), (\"'s\", 'NP'), ('family leave', 'NP'), ('sick days', 'NP'), (\"'s\", 'NP'), ('we', 'NP'), ('affordable child care', 'NP'), ('debt-free college', 'NP'), ('we', 'NP'), ('it', 'NP'), ('we', 'NP'), ('it', 'NP'), ('their fair share', 'NP'), ('the corporate loopholes', 'NP'), ('we', 'NP'), ('the stage', 'NP'), ('it', 'NP'), ('you', 'NP'), ('we', 'NP'), ('a debate', 'NP'), ('we', 'NP'), ('the important issues', 'NP'), ('our country', 'NP'), ('You', 'NP'), ('us', 'NP'), ('who', 'NP'), ('the immense, awesome responsibilities', 'NP'), ('the presidency', 'NP'), ('who', 'NP'), ('action', 'NP'), ('the plans', 'NP'), ('that', 'NP'), ('your life', 'NP'), ('I', 'NP'), ('I', 'NP'), ('your vote', 'NP'), ('November 8th', 'NP'), ('you', 'NP'), ('Mr. Trump', 'NP'), ('the same question', 'NP'), ('you', 'NP'), ('it', 'NP'), ('money', 'NP'), ('more money', 'NP'), ('the pockets', 'NP'), ('American workers', 'NP'), ('You', 'NP'), ('up to two minutes', 'NP'), ('you', 'NP'), ('Our jobs', 'NP'), ('the country', 'NP'), ('they', 'NP'), ('Mexico', 'NP'), ('they', 'NP'), ('many other countries', 'NP'), ('You', 'NP'), ('what', 'NP'), ('China', 'NP'), ('our country', 'NP'), ('terms', 'NP'), ('our product', 'NP'), ('they', 'NP'), ('their currency', 'NP'), ('nobody', 'NP'), ('our government', 'NP'), ('them', 'NP'), ('we', 'NP'), ('a very good fight', 'NP'), ('we', 'NP'), ('a winning fight', 'NP'), ('they', 'NP'), ('our country', 'NP'), ('a piggy bank', 'NP'), ('China', 'NP'), ('many other countries', 'NP'), ('the same thing', 'NP'), ('we', 'NP'), ('our good jobs', 'NP'), ('them', 'NP'), ('you', 'NP'), ('what', 'NP'), ('Mexico', 'NP'), ('a friend', 'NP'), ('mine', 'NP'), ('who', 'NP'), ('plants', 'NP'), ('it', 'NP'), ('the eighth wonder', 'NP'), ('the world', 'NP'), ('they', 'NP'), ('some', 'NP'), ('the biggest plants', 'NP'), ('the world', 'NP'), ('some', 'NP'), ('some', 'NP'), ('the best plants', 'NP'), ('the United States', 'NP'), ('he', 'NP'), ('Ford', 'NP'), ('You', 'NP'), ('their small car division', 'NP'), ('Thousands', 'NP'), ('jobs', 'NP'), ('Michigan', 'NP'), ('Ohio', 'NP'), ('they', 'NP'), ('we', 'NP'), ('it', 'NP'), ('child care', 'NP'), ('I', 'NP'), ('I', 'NP'), ('that', 'NP'), ('We', 'NP'), ('numbers', 'NP'), ('amounts', 'NP'), ('what', 'NP'), ('we', 'NP'), ('we', 'NP'), ('that', 'NP'), ('we', 'NP'), ('our jobs', 'NP'), ('us', 'NP'), ('We', 'NP'), ('our companies', 'NP'), ('the United States', 'NP'), ('it', 'NP'), ('all', 'NP'), ('their people', 'NP'), ('All', 'NP'), ('you', 'NP'), ('a look', 'NP'), ('Carrier air conditioning', 'NP'), ('Indianapolis', 'NP'), ('They', 'NP'), ('1,400 people', 'NP'), ('they', 'NP'), ('Mexico', 'NP'), ('So many hundreds', 'NP'), ('hundreds', 'NP'), ('companies', 'NP'), ('this', 'NP'), ('We', 'NP'), ('it', 'NP'), ('my plan', 'NP'), ('I', 'NP'), ('taxes', 'NP'), ('35 percent', 'NP'), ('15 percent', 'NP'), ('companies', 'NP'), ('small and big businesses', 'NP'), ('That', 'NP'), ('a job creator', 'NP'), ('we', 'NP'), ('Ronald Reagan', 'NP'), ('it', 'NP'), ('a beautiful thing', 'NP'), ('Companies', 'NP'), ('They', 'NP'), ('They', 'NP'), ('New companies', 'NP'), ('I', 'NP'), ('it', 'NP'), ('We', 'NP'), ('our trade deals', 'NP'), ('we', 'NP'), ('these countries', 'NP'), ('our companies', 'NP'), ('our jobs', 'NP'), ('you', 'NP'), ('I', 'NP'), ('trade', 'NP'), ('an important issue', 'NP'), ('we', 'NP'), ('5 percent', 'NP'), (\"the world's population\", 'NP'), ('we', 'NP'), ('the other 95 percent', 'NP'), ('we', 'NP'), ('smart, fair trade deals', 'NP'), ('We', 'NP'), ('a tax system', 'NP'), ('that', 'NP'), ('the kind', 'NP'), ('plan', 'NP'), ('that', 'NP'), ('Donald', 'NP'), ('trickle-down economics', 'NP'), ('fact', 'NP'), ('it', 'NP'), ('the most extreme version', 'NP'), ('the biggest tax cuts', 'NP'), ('the top percent', 'NP'), ('the people', 'NP'), ('this country', 'NP'), ('we', 'NP'), ('I', 'NP'), ('it', 'NP'), ('trumped-up trickle-down', 'NP'), ('that', 'NP'), ('exactly what', 'NP'), ('it', 'NP'), ('That', 'NP'), ('we', 'NP'), ('the economy', 'NP'), ('We', 'NP'), ('a different view', 'NP'), ('what', 'NP'), ('the economy', 'NP'), ('we', 'NP'), ('investments', 'NP'), ('that', 'NP'), ('jobs', 'NP'), ('rising incomes', 'NP'), ('I', 'NP'), ('we', 'NP'), ('it', 'NP'), ('somewhat different perspectives', 'NP'), ('I', 'NP'), ('that', 'NP'), ('You', 'NP'), ('Donald', 'NP'), ('his life', 'NP'), ('that', 'NP'), ('all', 'NP'), ('his benefit', 'NP'), ('He', 'NP'), ('his business', 'NP'), ('his father', 'NP'), ('he', 'NP'), ('you', 'NP'), ('wealthy people', 'NP'), ('we', 'NP'), ('everything', 'NP'), ('I', 'NP'), ('that', 'NP'), ('I', 'NP'), ('a different experience', 'NP'), ('My father', 'NP'), ('a small-businessman', 'NP'), ('He', 'NP'), ('He', 'NP'), ('drapery fabrics', 'NP'), ('long tables', 'NP'), ('he', 'NP'), ('those fabrics', 'NP'), ('he', 'NP'), ('a silkscreen', 'NP'), ('the paint', 'NP'), ('the squeegee', 'NP'), ('what', 'NP'), ('I', 'NP'), ('we', 'NP'), ('the middle class', 'NP'), ('we', 'NP'), ('you', 'NP'), ('your education', 'NP'), ('your skills', 'NP'), ('your future', 'NP'), ('we', 'NP'), ('we', 'NP'), ('That', 'NP'), ('the kind', 'NP'), ('economy', 'NP'), ('I', 'NP'), ('us', 'NP'), ('me', 'NP'), ('Mr. Trump', 'NP'), ('you', 'NP'), ('You', 'NP'), ('25 million jobs', 'NP'), ('you', 'NP'), ('millions', 'NP'), ('jobs', 'NP'), ('Americans', 'NP'), ('you', 'NP'), ('the industries', 'NP'), ('that', 'NP'), ('this country', 'NP'), ('cheaper labor', 'NP'), ('you', 'NP'), ('American manufacturers', 'NP'), ('that', 'NP'), ('you', 'NP'), ('one thing', 'NP'), ('we', 'NP'), ('that', 'NP'), ('my father', 'NP'), ('me', 'NP'), ('a very small loan', 'NP'), ('I', 'NP'), ('it', 'NP'), ('a company', 'NP'), ('that', 'NP'), ('dollars', 'NP'), ('some', 'NP'), ('the greatest assets', 'NP'), ('the world', 'NP'), ('I', 'NP'), ('that', 'NP'), ('the kind', 'NP'), ('our country', 'NP'), ('Our country', 'NP'), ('deep trouble', 'NP'), ('We', 'NP'), ('what', 'NP'), ('we', 'NP'), ('it', 'NP'), ('devaluations', 'NP'), ('all', 'NP'), ('these countries', 'NP'), ('the world', 'NP'), ('especially China', 'NP'), ('they', 'NP'), ('it', 'NP'), ('What', 'NP'), ('they', 'NP'), ('us', 'NP'), ('a very, very sad thing', 'NP'), ('we', 'NP'), ('that', 'NP'), ('We', 'NP'), ('our trade deals', 'NP'), ('they', 'NP'), ('our jobs', 'NP'), ('they', 'NP'), ('incentives', 'NP'), ('they', 'NP'), ('things', 'NP'), ('that', 'NP'), ('we', 'NP'), ('me', 'NP'), ('you', 'NP'), ('the example', 'NP'), ('Mexico', 'NP'), ('They', 'NP'), ('a VAT tax', 'NP'), ('we', 'NP'), ('a different system', 'NP'), ('we', 'NP'), ('Mexico', 'NP'), ('a tax', 'NP'), ('they', 'NP'), ('they', 'NP'), ('us', 'NP'), ('no tax', 'NP'), ('it', 'NP'), ('a defective agreement', 'NP'), ('it', 'NP'), ('a long time', 'NP'), ('the politicians', 'NP'), ('anything', 'NP'), ('it', 'NP'), ('all fairness', 'NP'), ('Secretary Clinton', 'NP'), ('that', 'NP'), ('I', 'NP'), ('you', 'NP'), ('it', 'NP'), ('me', 'NP'), ('all fairness', 'NP'), ('Secretary Clinton', 'NP'), ('she', 'NP'), ('this', 'NP'), ('it', 'NP'), ('she', 'NP'), ('this', 'NP'), ('30 years', 'NP'), ('she', 'NP'), ('the agreements', 'NP'), ('The NAFTA agreement', 'NP'), ('the tax', 'NP'), ('many other reasons', 'NP'), ('the fact', 'NP'), ('me', 'NP'), ('Secretary Clinton', 'NP'), ('others', 'NP'), ('politicians', 'NP'), ('this', 'NP'), ('years', 'NP'), ('the fact', 'NP'), ('we', 'NP'), ('a movement', 'NP'), ('They', 'NP'), ('this', 'NP'), ('years', 'NP'), ('What', 'NP'), ('our jobs', 'NP'), ('our country', 'NP'), ('our economy', 'NP'), ('we', 'NP'), ('We', 'NP'), ('it', 'NP'), ('the question', 'NP'), ('you', 'NP'), ('back jobs', 'NP'), ('you', 'NP'), ('them', 'NP'), ('the jobs', 'NP'), ('the first thing', 'NP'), ('you', 'NP'), ('the jobs', 'NP'), ('The companies', 'NP'), ('I', 'NP'), ('I', 'NP'), ('thousands', 'NP'), ('them', 'NP'), ('they', 'NP'), ('they', 'NP'), ('bigger numbers', 'NP'), ('what', 'NP'), ('you', 'NP'), ('you', 'NP'), ('you', 'NP'), ('Mexico', 'NP'), ('some other country', 'NP'), ('We', 'NP'), ('you', 'NP'), ('a lot', 'NP'), ('luck', 'NP'), ('you', 'NP'), ('you', 'NP'), ('your air conditioners', 'NP'), ('your cars', 'NP'), ('your cookies', 'NP'), ('whatever', 'NP'), ('you', 'NP'), ('them', 'NP'), ('our country', 'NP'), ('a tax', 'NP'), ('you', 'NP'), ('you', 'NP'), ('you', 'NP'), ('them', 'NP'), ('our politicians', 'NP'), ('this', 'NP'), ('they', 'NP'), ('special interests', 'NP'), ('the special interests', 'NP'), ('those companies', 'NP'), ('many cases', 'NP'), ('they', 'NP'), ('the companies', 'NP'), ('what', 'NP'), ('I', 'NP'), ('we', 'NP'), ('them', 'NP'), ('We', 'NP'), ('them', 'NP'), ('that', 'NP'), ('a big, big factor', 'NP'), ('me', 'NP'), ('Secretary Clinton', 'NP'), (\"'s\", 'NP'), ('we', 'NP'), ('We', 'NP'), ('the worst financial crisis', 'NP'), ('the Great Recession', 'NP'), ('the 1930s', 'NP'), ('That', 'NP'), ('large part', 'NP'), ('tax policies', 'NP'), ('that', 'NP'), ('taxes', 'NP'), ('the middle class', 'NP'), ('their eyes', 'NP'), ('Wall Street', 'NP'), ('a perfect storm', 'NP'), ('fact', 'NP'), ('Donald', 'NP'), ('the people', 'NP'), ('who', 'NP'), ('the housing crisis', 'NP'), ('He', 'NP'), ('I', 'NP'), ('it', 'NP'), ('I', 'NP'), ('some', 'NP'), ('some money', 'NP'), ('it', 'NP'), ('That', 'NP'), ('business', 'NP'), ('the way', 'NP'), ('Nine million people', 'NP'), ('nine million people', 'NP'), ('their jobs', 'NP'), ('Five million people', 'NP'), ('their homes', 'NP'), ('family wealth', 'NP'), ('we', 'NP'), ('that abyss', 'NP'), ('it', 'NP'), ('we', 'NP'), ('the precipice', 'NP'), ('a potentially much better economy', 'NP'), ('the last thing', 'NP'), ('we', 'NP'), ('the policies', 'NP'), ('that', 'NP'), ('us', 'NP'), ('the first place', 'NP'), ('Independent experts', 'NP'), ('what', 'NP'), ('I', 'NP'), ('what', 'NP'), ('Donald', 'NP'), ('they', 'NP'), ('this', 'NP'), ('his tax plan', 'NP'), ('which', 'NP'), ('the debt', 'NP'), ('some instances', 'NP'), ('middle-class families', 'NP'), ('effect', 'NP'), ('we', 'NP'), ('3.5 million jobs', 'NP'), ('another recession', 'NP'), ('They', 'NP'), ('my plans', 'NP'), ('they', 'NP'), ('we', 'NP'), ('this', 'NP'), ('I', 'NP'), ('it', 'NP'), ('we', 'NP'), ('10 million more new jobs', 'NP'), ('we', 'NP'), ('investments', 'NP'), ('we', 'NP'), ('the economy', 'NP'), ('clean energy', 'NP'), ('Some country', 'NP'), ('the clean- energy superpower', 'NP'), ('the 21st century', 'NP'), ('Donald', 'NP'), ('climate change', 'NP'), ('the Chinese', 'NP'), ('I', 'NP'), ('it', 'NP'), ('I', 'NP'), ('I', 'NP'), ('I', 'NP'), ('that', 'NP'), ('I', 'NP'), ('science', 'NP'), ('I', 'NP'), ('that', 'NP'), ('I', 'NP'), ('it', 'NP'), ('we', 'NP'), ('this', 'NP'), ('it', 'NP'), ('home', 'NP'), ('what', 'NP'), ('we', 'NP'), ('We', 'NP'), ('a half a billion more solar panels', 'NP'), ('We', 'NP'), ('enough clean energy', 'NP'), ('every home', 'NP'), ('We', 'NP'), ('a new modern electric grid', 'NP'), ('That', 'NP'), ('a lot', 'NP'), ('jobs', 'NP'), ('that', 'NP'), ('a lot', 'NP'), ('new economic activity', 'NP'), ('I', 'NP'), ('what', 'NP'), ('we', 'NP'), ('I', 'NP'), ('we', 'NP'), ('the economy', 'NP'), ('the progress', 'NP'), ('we', 'NP'), ('the last eight years', 'NP'), ('what', 'NP'), ('us', 'NP'), ('trouble', 'NP'), ('the first place', 'NP'), ('Mr. Trump', 'NP'), ('She', 'NP'), ('solar panels', 'NP'), ('We', 'NP'), ('a solar company', 'NP'), ('our country', 'NP'), ('That', 'NP'), ('a disaster', 'NP'), ('They', 'NP'), ('plenty', 'NP'), ('money', 'NP'), ('I', 'NP'), ('a great believer', 'NP'), ('all forms', 'NP'), ('energy', 'NP'), ('we', 'NP'), ('a lot', 'NP'), ('people', 'NP'), ('work', 'NP'), ('Our energy policies', 'NP'), ('a disaster', 'NP'), ('Our country', 'NP'), ('terms', 'NP'), ('energy', 'NP'), ('terms', 'NP'), ('our debt', 'NP'), ('You', 'NP'), ('what', 'NP'), ('you', 'NP'), ('debt', 'NP'), ('The Obama administration', 'NP'), ('the time', 'NP'), ('they', 'NP'), (\"over 230 years' worth\", 'NP'), ('debt', 'NP'), ('he', 'NP'), ('it', 'NP'), ('he', 'NP'), ('it', 'NP'), ('a course', 'NP'), ('almost eight years', 'NP'), ('semi- exact', 'NP'), ('I', 'NP'), ('you', 'NP'), ('this', 'NP'), ('We', 'NP'), ('a much better job', 'NP'), ('our jobs', 'NP'), ('we', 'NP'), ('a much better job', 'NP'), ('companies', 'NP'), ('incentives', 'NP'), ('new companies', 'NP'), ('they', 'NP'), ('it', 'NP'), ('all', 'NP'), ('you', 'NP'), ('Michigan', 'NP'), ('Ohio', 'NP'), ('all', 'NP'), ('these places', 'NP'), ('their jobs', 'NP'), ('their companies', 'NP'), ('they', 'NP'), ('I', 'NP'), ('you', 'NP'), ('this', 'NP'), ('You', 'NP'), ('this', 'NP'), ('30 years', 'NP'), ('you', 'NP'), ('these solutions', 'NP'), ('30 years', 'NP'), ('you', 'NP'), ('it', 'NP'), ('you', 'NP'), ('solutions', 'NP'), ('I', 'NP'), ('me', 'NP'), ('I', 'NP'), ('jobs', 'NP'), ('You', 'NP'), ('jobs', 'NP'), ('I', 'NP'), ('this', 'NP'), ('30 years', 'NP'), ('I', 'NP'), ('I', 'NP'), ('my husband', 'NP'), ('a pretty good job', 'NP'), ('I', 'NP'), ('a lot', 'NP'), ('what', 'NP'), ('we', 'NP'), ('it', 'NP'), ('he', 'NP'), ('NAFTA', 'NP'), ('CROSSTALK', 'NP'), ('million new jobs', 'NP'), ('a balanced budget', 'NP'), ('He', 'NP'), ('NAFTA', 'NP'), ('which', 'NP'), ('the single worst trade deal', 'NP'), ('this country', 'NP'), ('Incomes', 'NP'), ('everybody', 'NP'), ('Manufacturing jobs', 'NP'), ('the 1990s', 'NP'), ('we', 'NP'), ('the facts', 'NP'), ('I', 'NP'), ('the Senate', 'NP'), ('I', 'NP'), ('a number', 'NP'), ('trade deals', 'NP'), ('that', 'NP'), ('me', 'NP'), ('I', 'NP'), ('them', 'NP'), ('all', 'NP'), ('the same test', 'NP'), ('they', 'NP'), ('jobs', 'NP'), ('America', 'NP'), ('they', 'NP'), ('incomes', 'NP'), ('America', 'NP'), ('they', 'NP'), ('our national security', 'NP'), ('Some', 'NP'), ('them', 'NP'), ('I', 'NP'), ('a multinational one', 'NP'), ('CAFTA', 'NP'), ('I', 'NP'), ('I', 'NP'), ('the same standards', 'NP'), ('I', 'NP'), ('all', 'NP'), ('these trade deals', 'NP'), (\"'s\", 'NP'), ('trade', 'NP'), ('the only challenge', 'NP'), ('we', 'NP'), ('the economy', 'NP'), ('I', 'NP'), ('it', 'NP'), ('a part', 'NP'), ('it', 'NP'), ('I', 'NP'), ('what', 'NP'), ('I', 'NP'), ('I', 'NP'), ('a special prosecutor', 'NP'), ('we', 'NP'), ('the trade deals', 'NP'), ('we', 'NP'), ('we', 'NP'), ('people', 'NP'), ('I', 'NP'), ('secretary', 'NP'), ('state', 'NP'), ('we', 'NP'), ('American exports', 'NP'), ('We', 'NP'), ('them', 'NP'), ('China', 'NP'), ('I', 'NP'), ('new jobs', 'NP'), ('exports', 'NP'), ('that', 'NP'), ('more new jobs', 'NP'), ('you', 'NP'), ('it', 'NP'), ('30 years', 'NP'), ('26 years', 'NP'), ('any number', 'NP'), ('you', 'NP'), ('I', 'NP'), ('a senator', 'NP'), ('Donald', 'NP'), ('You', 'NP'), ('it', 'NP'), ('You', 'NP'), ('it', 'NP'), ('I', 'NP'), ('a secretary', 'NP'), ('state', 'NP'), ('me', 'NP'), ('I', 'NP'), ('a lot', 'NP'), ('Your husband', 'NP'), ('NAFTA', 'NP'), ('which', 'NP'), ('the worst things', 'NP'), ('that', 'NP'), ('the manufacturing industry', 'NP'), ('that', 'NP'), ('your opinion', 'NP'), ('That', 'NP'), ('your opinion', 'NP'), ('You', 'NP'), ('New England', 'NP'), ('you', 'NP'), ('Ohio', 'NP'), ('Pennsylvania', 'NP'), ('you', 'NP'), ('you', 'NP'), ('you', 'NP'), ('devastation', 'NP'), ('manufacture', 'NP'), ('50 percent', 'NP'), ('NAFTA', 'NP'), ('the worst trade deal', 'NP'), ('this country', 'NP'), ('you', 'NP'), ('Trans-Pacific Partnership', 'NP'), ('You', 'NP'), ('favor', 'NP'), ('it', 'NP'), ('you', 'NP'), ('what', 'NP'), ('I', 'NP'), ('it', 'NP'), ('you', 'NP'), ('I', 'NP'), ('that debate', 'NP'), ('you', 'NP'), ('you', 'NP'), ('you', 'NP'), ('that', 'NP'), ('that', 'NP'), ('NAFTA', 'NP'), ('Nothing', 'NP'), ('NAFTA', 'NP'), ('that', 'NP'), ('I', 'NP'), ('it', 'NP'), ('it', 'NP'), ('the terms', 'NP')] \n",
                        "\n",
                        "Verbs:  [('want', 'VERB'), ('welcome', 'VERB'), ('sponsored', 'VERB'), ('drafted', 'VERB'), ('agreed', 'VERB'), ('divided', 'VERB'), ('explore', 'VERB'), ('Achieving', 'VERB'), ('securing', 'VERB'), ('ask', 'VERB'), ('lead', 'VERB'), ('have', 'VERB'), ('respond', 'VERB'), ('have', 'VERB'), ('shared', 'VERB'), ('agreed', 'VERB'), ('remain', 'VERB'), ('focus', 'VERB'), ('saying', 'VERB'), ('invite', 'VERB'), ('applaud', 'VERB'), ('welcome', 'VERB'), ('expect', 'VERB'), ('cover', 'VERB'), ('remind', 'VERB'), ('are', 'VERB'), ('scheduled', 'VERB'), ('going', 'VERB'), ('focus', 'VERB'), ('tell', 'VERB'), ('going', 'VERB'), ('press', 'VERB'), ('honored', 'VERB'), ('have', 'VERB'), ('belongs', 'VERB'), ('look', 'VERB'), ('hearing', 'VERB'), ('articulate', 'VERB'), ('let', 'VERB'), ('begin', 'VERB'), ('calling', 'VERB'), ('Achieving', 'VERB'), ('are', 'VERB'), (\"'s\", 'VERB'), ('show', 'VERB'), ('increased', 'VERB'), ('remains', 'VERB'), ('living', 'VERB'), ('Beginning', 'VERB'), ('create', 'VERB'), ('put', 'VERB'), ('thank', 'VERB'), ('hosting', 'VERB'), ('want', 'VERB'), ('build', 'VERB'), ('think', 'VERB'), ('have', 'VERB'), ('build', 'VERB'), ('works', 'VERB'), ('means', 'VERB'), ('need', 'VERB'), ('rising', 'VERB'), ('want', 'VERB'), ('invest', 'VERB'), ('want', 'VERB'), ('invest', 'VERB'), ('means', 'VERB'), ('come', 'VERB'), ('have', 'VERB'), ('make', 'VERB'), ('starts', 'VERB'), ('raising', 'VERB'), ('guarantee', 'VERB'), ('want', 'VERB'), ('see', 'VERB'), ('do', 'VERB'), ('help', 'VERB'), ('create', 'VERB'), ('share', 'VERB'), ('want', 'VERB'), ('do', 'VERB'), ('support', 'VERB'), ('struggling', 'VERB'), ('balance', 'VERB'), ('heard', 'VERB'), ('face', 'VERB'), ('let', 'VERB'), ('paid', 'VERB'), ('earned', 'VERB'), ('Let', 'VERB'), ('have', 'VERB'), ('going', 'VERB'), ('do', 'VERB'), ('going', 'VERB'), ('do', 'VERB'), ('having', 'VERB'), ('pay', 'VERB'), ('close', 'VERB'), ('going', 'VERB'), ('have', 'VERB'), ('talking', 'VERB'), ('facing', 'VERB'), ('have', 'VERB'), ('judge', 'VERB'), ('shoulder', 'VERB'), ('put', 'VERB'), ('make', 'VERB'), ('hope', 'VERB'), ('earn', 'VERB'), ('thank', 'VERB'), ('putting', 'VERB'), ('have', 'VERB'), ('Thank', 'VERB'), ('fleeing', 'VERB'), ('going', 'VERB'), ('going', 'VERB'), ('look', 'VERB'), ('doing', 'VERB'), ('making', 'VERB'), ('devaluing', 'VERB'), (\"'s\", 'VERB'), ('fight', 'VERB'), ('have', 'VERB'), ('have', 'VERB'), ('winning', 'VERB'), ('using', 'VERB'), ('rebuild', 'VERB'), ('doing', 'VERB'), ('losing', 'VERB'), ('look', 'VERB'), ('happening', 'VERB'), ('builds', 'VERB'), ('said', 'VERB'), ('building', 'VERB'), ('said', 'VERB'), ('leaving', 'VERB'), ('see', 'VERB'), ('leaving', 'VERB'), ('leaving', 'VERB'), ('leaving', 'VERB'), ('leaving', 'VERB'), ('allow', 'VERB'), ('happen', 'VERB'), ('think', 'VERB'), ('agree', 'VERB'), ('disagree', 'VERB'), ('going', 'VERB'), ('do', 'VERB'), ('talking', 'VERB'), ('have', 'VERB'), ('stop', 'VERB'), ('stolen', 'VERB'), ('have', 'VERB'), ('stop', 'VERB'), ('leaving', 'VERB'), ('firing', 'VERB'), ('have', 'VERB'), ('do', 'VERB'), ('take', 'VERB'), ('left', 'VERB'), ('fired', 'VERB'), ('going', 'VERB'), ('doing', 'VERB'), ('let', 'VERB'), ('happen', 'VERB'), ('reducing', 'VERB'), ('going', 'VERB'), ('seen', 'VERB'), ('going', 'VERB'), ('watch', 'VERB'), ('come', 'VERB'), ('build', 'VERB'), ('expand', 'VERB'), ('start', 'VERB'), ('look', 'VERB'), ('doing', 'VERB'), ('have', 'VERB'), ('renegotiate', 'VERB'), ('have', 'VERB'), ('stop', 'VERB'), ('stealing', 'VERB'), ('like', 'VERB'), ('respond', 'VERB'), ('think', 'VERB'), ('have', 'VERB'), ('trade', 'VERB'), ('need', 'VERB'), ('have', 'VERB'), ('need', 'VERB'), ('have', 'VERB'), ('rewards', 'VERB'), ('work', 'VERB'), ('put', 'VERB'), ('had', 'VERB'), ('call', 'VERB'), ('trumped', 'VERB'), ('grow', 'VERB'), ('have', 'VERB'), ('growing', 'VERB'), ('make', 'VERB'), ('produce', 'VERB'), ('rising', 'VERB'), ('think', 'VERB'), ('come', 'VERB'), ('understand', 'VERB'), ('know', 'VERB'), ('started', 'VERB'), ('borrowed', 'VERB'), ('believes', 'VERB'), ('help', 'VERB'), ('work', 'VERB'), ('buy', 'VERB'), ('have', 'VERB'), ('worked', 'VERB'), ('printed', 'VERB'), ('pulled', 'VERB'), ('went', 'VERB'), ('dumped', 'VERB'), ('took', 'VERB'), ('kept', 'VERB'), ('going', 'VERB'), ('believe', 'VERB'), ('do', 'VERB'), ('invest', 'VERB'), ('grow', 'VERB'), ('want', 'VERB'), ('see', 'VERB'), ('Let', 'VERB'), ('follow', 'VERB'), ('talked', 'VERB'), ('creating', 'VERB'), ('promised', 'VERB'), ('bring', 'VERB'), ('going', 'VERB'), ('bring', 'VERB'), ('left', 'VERB'), ('going', 'VERB'), ('tell', 'VERB'), ('have', 'VERB'), ('come', 'VERB'), ('start', 'VERB'), ('gave', 'VERB'), ('built', 'VERB'), ('say', 'VERB'), ('thinking', 'VERB'), ('needs', 'VERB'), ('know', 'VERB'), ('doing', 'VERB'), ('comes', 'VERB'), ('doing', 'VERB'), ('have', 'VERB'), ('do', 'VERB'), ('have', 'VERB'), ('renegotiate', 'VERB'), ('taking', 'VERB'), ('giving', 'VERB'), ('doing', 'VERB'), ('do', 'VERB'), ('Let', 'VERB'), ('give', 'VERB'), ('have', 'VERB'), ('sell', 'VERB'), (\"'s\", 'VERB'), ('sell', 'VERB'), ('sell', 'VERB'), (\"'s\", 'VERB'), ('done', 'VERB'), ('want', 'VERB'), ('started', 'VERB'), ('talking', 'VERB'), ('doing', 'VERB'), ('made', 'VERB'), ('Let', 'VERB'), ('interrupt', 'VERB'), ('doing', 'VERB'), ('created', 'VERB'), ('doing', 'VERB'), ('happened', 'VERB'), ('look', 'VERB'), ('owe', 'VERB'), ('do', 'VERB'), ('bring', 'VERB'), ('bring', 'VERB'), ('make', 'VERB'), ('bring', 'VERB'), ('do', 'VERB'), ('let', 'VERB'), ('leave', 'VERB'), ('leaving', 'VERB'), ('name', 'VERB'), ('mean', 'VERB'), ('are', 'VERB'), ('leaving', 'VERB'), ('leaving', 'VERB'), ('say', 'VERB'), ('want', 'VERB'), ('go', 'VERB'), ('wish', 'VERB'), ('think', 'VERB'), ('going', 'VERB'), ('make', 'VERB'), ('make', 'VERB'), ('bring', 'VERB'), ('say', 'VERB'), ('going', 'VERB'), ('have', 'VERB'), ('tax', 'VERB'), ('coming', 'VERB'), ('do', 'VERB'), ('have', 'VERB'), ('want', 'VERB'), ('leave', 'VERB'), ('own', 'VERB'), ('saying', 'VERB'), ('stop', 'VERB'), ('leaving', 'VERB'), ('have', 'VERB'), ('stop', 'VERB'), ('leaving', 'VERB'), ('Let', 'VERB'), ('let', 'VERB'), ('get', 'VERB'), ('let', 'VERB'), ('stop', 'VERB'), ('remember', 'VERB'), ('had', 'VERB'), ('slashed', 'VERB'), ('failed', 'VERB'), ('invest', 'VERB'), ('took', 'VERB'), ('created', 'VERB'), ('rooted', 'VERB'), ('said', 'VERB'), ('hope', 'VERB'), ('collapse', 'VERB'), ('go', 'VERB'), ('buy', 'VERB'), ('make', 'VERB'), ('collapse', 'VERB'), ('called', 'VERB'), ('lost', 'VERB'), ('lost', 'VERB'), ('wiped', 'VERB'), ('come', 'VERB'), ('having', 'VERB'), ('need', 'VERB'), ('do', 'VERB'), ('go', 'VERB'), ('failed', 'VERB'), ('looked', 'VERB'), ('proposed', 'VERB'), ('looked', 'VERB'), ('proposed', 'VERB'), ('said', 'VERB'), ('blow', 'VERB'), ('disadvantage', 'VERB'), ('compared', 'VERB'), ('go', 'VERB'), ('lose', 'VERB'), ('have', 'VERB'), ('looked', 'VERB'), ('said', 'VERB'), ('do', 'VERB'), ('intend', 'VERB'), ('get', 'VERB'), ('done', 'VERB'), ('have', 'VERB'), ('making', 'VERB'), ('grow', 'VERB'), ('Take', 'VERB'), ('going', 'VERB'), ('thinks', 'VERB'), ('perpetrated', 'VERB'), ('think', 'VERB'), ('did', 'VERB'), ('did', 'VERB'), ('say', 'VERB'), ('think', 'VERB'), ('say', 'VERB'), ('think', 'VERB'), ('grip', 'VERB'), ('deal', 'VERB'), ('do', 'VERB'), ('deploy', 'VERB'), ('have', 'VERB'), ('power', 'VERB'), ('build', 'VERB'), ('tried', 'VERB'), ('do', 'VERB'), ('going', 'VERB'), ('get', 'VERB'), ('moving', 'VERB'), ('building', 'VERB'), ('made', 'VERB'), ('going', 'VERB'), ('got', 'VERB'), ('talks', 'VERB'), ('invested', 'VERB'), ('lost', 'VERB'), ('look', 'VERB'), ('putting', 'VERB'), ('losing', 'VERB'), ('paying', 'VERB'), ('do', 'VERB'), ('looking', 'VERB'), ('do', 'VERB'), ('come', 'VERB'), ('topped', 'VERB'), ('doubled', 'VERB'), ('tell', 'VERB'), ('have', 'VERB'), ('do', 'VERB'), ('keeping', 'VERB'), ('have', 'VERB'), ('do', 'VERB'), ('giving', 'VERB'), ('build', 'VERB'), ('expand', 'VERB'), ('doing', 'VERB'), ('have', 'VERB'), ('do', 'VERB'), ('look', 'VERB'), ('look', 'VERB'), ('look', 'VERB'), ('leaving', 'VERB'), ('gone', 'VERB'), ('ask', 'VERB'), ('doing', 'VERB'), ('thinking', 'VERB'), ('doing', 'VERB'), ('starting', 'VERB'), ('think', 'VERB'), ('bring', 'VERB'), ('excuse', 'VERB'), ('bring', 'VERB'), ('bring', 'VERB'), ('thought', 'VERB'), ('have', 'VERB'), ('think', 'VERB'), ('did', 'VERB'), ('think', 'VERB'), ('worked', 'VERB'), ('make', 'VERB'), ('work', 'VERB'), ('approved', 'VERB'), ('approved', 'VERB'), ('approved', 'VERB'), ('went', 'VERB'), ('Manufacturing', 'VERB'), ('went', 'VERB'), ('going', 'VERB'), ('look', 'VERB'), ('had', 'VERB'), ('came', 'VERB'), ('held', 'VERB'), ('create', 'VERB'), ('raise', 'VERB'), ('voted', 'VERB'), ('known', 'VERB'), ('voted', 'VERB'), ('hold', 'VERB'), ('look', 'VERB'), ('let', 'VERB'), ('assume', 'VERB'), ('have', 'VERB'), ('think', 'VERB'), ('said', 'VERB'), ('going', 'VERB'), ('do', 'VERB'), ('going', 'VERB'), ('have', 'VERB'), ('going', 'VERB'), ('enforce', 'VERB'), ('have', 'VERB'), ('going', 'VERB'), ('hold', 'VERB'), ('increased', 'VERB'), ('increased', 'VERB'), ('know', 'VERB'), ('work', 'VERB'), ('get', 'VERB'), ('get', 'VERB'), ('helped', 'VERB'), ('create', 'VERB'), ('done', 'VERB'), ('want', 'VERB'), ('done', 'VERB'), ('done', 'VERB'), ('Excuse', 'VERB'), ('done', 'VERB'), ('signed', 'VERB'), ('happened', 'VERB'), ('go', 'VERB'), ('go', 'VERB'), ('go', 'VERB'), ('want', 'VERB'), ('see', 'VERB'), ('signed', 'VERB'), ('signed', 'VERB'), ('want', 'VERB'), ('approve', 'VERB'), ('heard', 'VERB'), ('saying', 'VERB'), ('said', 'VERB'), ('win', 'VERB'), ('know', 'VERB'), ('win', 'VERB'), ('approve', 'VERB'), ('top', 'VERB'), ('negotiated', 'VERB'), ('laid', 'VERB')] \n",
                        "\n"
                    ]
                }
            ],
            "source": [
                "# Your Code Submission goes here\n",
                "import spacy\n",
                "from spacy import displacy\n",
                "#!python3 -m spacy download en_core_web_sm\n",
                "nlp = spacy.load(\"en_core_web_sm\") # english tokenizer, tagger, parser and NER\n",
                "doc = nlp(content_debates)\n",
                "\n",
                "sent = list(doc.sents)[:250]\n",
                "\n",
                "text_sub = \" \".join([sentence.text for sentence in sent])\n",
                "\n",
                "doc_sub = nlp(text_sub)\n",
                "\n",
                "print(\"Noun phrases: \", [(chunk.text, chunk.label_) for chunk in doc_sub.noun_chunks], \"\\n\")\n",
                "print(\"Verbs: \", [(token.text, token.pos_) for token in doc_sub if token.pos_ == \"VERB\"], \"\\n\")\n",
                "\n",
                "#for entity in doc_sub.ents:\n",
                "#    print(entity.text, entity.label_)"
            ]
        },
        {
            "cell_type": "code",
            "execution_count": 14,
            "id": "736d6871",
            "metadata": {},
            "outputs": [
                {
                    "name": "stdout",
                    "output_type": "stream",
                    "text": [
                        " Good evening[TIME] from Hofstra University[ORG] in Hempstead[GPE], New York[GPE].\n",
                        "--------------------\n",
                        "I am Lester Holt[PERSON], anchor of \"NBC Nightly News[ORG].”\n",
                        "--------------------\n",
                        "I want to welcome you to the first[ORDINAL] presidential debate.\n",
                        "\n",
                        "--------------------\n",
                        "The participants tonight[TIME] are Donald Trump[PERSON] and Hillary Clinton[PERSON].\n",
                        "--------------------\n",
                        "This debate is sponsored by the Commission on Presidential Debates[ORG], a nonpartisan, nonprofit organization.\n",
                        "--------------------\n",
                        "The commission drafted tonight[TIME]'s format, and the rules have been agreed to by the campaigns.\n",
                        "\n",
                        "--------------------\n",
                        "The 90-minute[TIME] debate is divided into six[CARDINAL] segments, each 15 minutes[TIME] long.\n",
                        "--------------------\n",
                        "We'll explore three[CARDINAL] topic areas tonight[TIME]:\n",
                        "--------------------\n",
                        "Achieving prosperity; America[GPE]'s direction; and securing America[GPE].\n",
                        "--------------------\n",
                        "At the start of each segment, I will ask the same lead-off question to both candidates, and they will each have up to two minutes[TIME] to respond.\n",
                        "--------------------\n"
                    ]
                }
            ],
            "source": [
                "def mark_entities(text, doc):\n",
                "    offset = 0\n",
                "    marked = text\n",
                "    for ent in doc.ents:\n",
                "        start = ent.start_char + offset\n",
                "        end = ent.end_char + offset\n",
                "        label = f\"[{ent.label_}]\"\n",
                "        marked = marked[:end] + label + marked[end:]\n",
                "        offset += len(label)\n",
                "    return marked\n",
                "\n",
                "\n",
                "for sent in list(doc.sents)[:10]:\n",
                "    sent_doc = nlp(sent.text)\n",
                "    if sent_doc.ents:\n",
                "        print(mark_entities(sent.text, sent_doc))\n",
                "        print(\"-\" * 20)"
            ]
        },
        {
            "cell_type": "markdown",
            "id": "c716f922",
            "metadata": {},
            "source": [
                "### Part 2: Analysis\n",
                "\n",
                "In real-word use cases, NER can be difficult. Analyze the following challenging examples and identify all cases in which the automated NER failed. For the tagging, you can use the method from part 1."
            ]
        },
        {
            "cell_type": "code",
            "execution_count": 8,
            "id": "15286f4b",
            "metadata": {},
            "outputs": [],
            "source": [
                "# read debates\n",
                "import json\n",
                "with open('data/hard_data.json', 'r') as infile:\n",
                "    data = json.load(infile)\n",
                "\n",
                "test_sentences = [s[\"sentence\"] for s in data['test_sentences']]"
            ]
        },
        {
            "cell_type": "code",
            "execution_count": 11,
            "id": "28e211ba",
            "metadata": {},
            "outputs": [
                {
                    "name": "stdout",
                    "output_type": "stream",
                    "text": [
                        "11\n"
                    ]
                }
            ],
            "source": [
                "print(len(test_sentences))"
            ]
        },
        {
            "cell_type": "markdown",
            "id": "0e76fc6a",
            "metadata": {},
            "source": [
                "Write the failure cases down here, then try to classify them into types of errors that the model makes. Discuss the results.\n",
                "You can use a mixture of markdown and code if it suits your analysis."
            ]
        },
        {
            "cell_type": "code",
            "execution_count": 13,
            "id": "6acb81f8",
            "metadata": {},
            "outputs": [
                {
                    "name": "stdout",
                    "output_type": "stream",
                    "text": [
                        "Sentence 1:\n",
                        "Flight booking 1[CARDINAL]: “So, I would like to fly out sometime tonight[TIME] and fly back in the evening in 4 days[DATE]. From I’m looking to go to Denver[GPE]. I’m flying out of San Francisco[GPE].”\n",
                        "--------------------\n",
                        "Sentence 2:\n",
                        "Flight booking 2[CARDINAL]: “Okay, you got it so it looks like United Airlines[ORG] leaves at 9:20 p.m.[TIME] that is nonstop the flight duration is 2 hours and 28 minutes[TIME] and is priced at $337[MONEY].”\n",
                        "--------------------\n",
                        "Sentence 3:\n",
                        "Flight booking 3[CARDINAL]: “I found a flight that leaves Seattle[GPE] coming Monday[DATE] at 7:35 a.m and arrives in Tampa[GPE] at 4:10 p.m.[TIME]”\n",
                        "--------------------\n",
                        "Sentence 4:\n",
                        "Hotel booking 1[CARDINAL]: “Park Hyatt Aviara[PERSON] resort Golf Club[ORG] and Spa, it’s $279[MONEY] per night. It‘s rated 4.8[CARDINAL] stars. Resort offering an 18[CARDINAL]-hole golf course, an outdoor pool & tennis courts plus a spa & fine dining.”\n",
                        "--------------------\n",
                        "Sentence 5:\n",
                        "Hotel booking 2[CARDINAL]: “Staybridge Suites Carlsbad[WORK_OF_ART], it’s $145[MONEY] per night. It’s rated 4.5[CARDINAL] stars. Warm suites with kitchens in a relaxed property featuring an outdoor pool, a gym & a BBQ[ORG] area.”\n",
                        "--------------------\n",
                        "Sentence 6:\n",
                        "Cinema 1[CARDINAL]: “The Mummy[PERSON] is playing at 4:30 pm this afternoon[TIME] at Regal Davis Stadium 5[PERSON].”\n",
                        "--------------------\n",
                        "Sentence 7:\n",
                        "Cinema 2[CARDINAL]: “I have Chips[PRODUCT] playing at 9:50 PM[TIME]. I have Get Out playing at 10:15 PM[TIME]. and Snaps[GPE] playing at 10:25 PM[TIME].”\n",
                        "--------------------\n",
                        "Sentence 8:\n",
                        "Music 1[CARDINAL]: “Here’s a song diamonds originally by Rihanna Cover[PERSON] by One[CARDINAL] Voice Children’s Choir.”\n",
                        "--------------------\n",
                        "Sentence 9:\n",
                        "Restaurant 1: “Hi, currently I’m in IKEA[ORG], California[GPE]. I’m looking for restaurant to eat dinner.”\n",
                        "--------------------\n",
                        "Sentence 10:\n",
                        "Restaurant 2: “I found a highly rated restaurant called Second Floor[ORG] in Kitchen[GPE], it is 4.3[CARDINAL] stars out of 5[CARDINAL] and it’s described is New American[NORP] tasting menus in a sophisticated setting. How does it sound?”\n",
                        "--------------------\n",
                        "Sentence 11:\n",
                        "Sports 1[CARDINAL]: “On last Saturday, September 9th[DATE], LA Dodgers[ORG] played against New York Red Bulls[ORG] and it was a draw with the score 1–1.”\n",
                        "--------------------\n"
                    ]
                }
            ],
            "source": [
                "# Your Code Submission goes here\n",
                "for i, sentence in enumerate(test_sentences[:11], 1):\n",
                "    sent_doc = nlp(sentence)\n",
                "    print(f\"Sentence {i}:\")\n",
                "    if sent_doc.ents:\n",
                "        print(mark_entities(sentence, sent_doc))\n",
                "    else:\n",
                "        print(sentence)\n",
                "        print(\"[No entities detected]\")\n",
                "    print(\"-\" * 20)"
            ]
        },
        {
            "cell_type": "markdown",
            "id": "3caa1823",
            "metadata": {},
            "source": [
                "Sentence 1:\n",
                "\n",
                "missed: 'in the evening in four days' as DATE rather than 4 CARDINAL, evening TIME, \n",
                "\n",
                "Sentence 3:\n",
                "\n",
                "missed: 7:35 a.m TIME, probably because this would be one entity right after another?\n",
                "\n",
                "Sentence 4:\n",
                "\n",
                "\"Park Hyatt Aviara PERSON resort\" is and  ORG  and belongs to Golf Club as well as to Spa. what about per night? Is that not a time or sth.?\n",
                "\n",
                "Boundary issue?\n",
                "\n",
                "Sentence 5: \n",
                "\n",
                "Type errors: wrong entity type (hotel as work of art).\n",
                "\n",
                "\"Staybridge Suites Carlsbad\" tagged as WORK_OF_ART rather than an ORG (it's a hotel).\n",
                "\n",
                "False positive: BBQ as ORG.\n",
                "\n",
                "mistakes BBQ for a proper noun and therefore an ORG since it doesn't recognizes it as a person?\n",
                "\n",
                "Sentence 6:\n",
                "\n",
                "Type error (and boundary error?):\n",
                "\n",
                "\"The Mummy\" is a product not a person.\n",
                "\n",
                "\"Regal Davis Stadium 5\" is a ORG not a person.\n",
                "\n",
                "\"at 4:30 pm this afternoon\", is this whole phrase caught as time or only afternoon?\n",
                "\n",
                "Sentence 7:\n",
                "\n",
                "missed entity: \"Get out\" aWORK_OF_ART was missed.\n",
                "\n",
                "misclassification: \"Snaps GPE\" is WORK_OF_ART, too.\n",
                "\n",
                "Sentence 8:\n",
                "\n",
                "missed entity: diamonds is not recognized as WORK_OF_ART.\n",
                "\n",
                "misclassification / missed entity: One CARDINAL Voice Children’s Choir. The whole is a person? or so.\n",
                "\n",
                "false positive: Cover PERSON, whatever Cover is, this is just a bad sentence.\n",
                "\n",
                "Sentence 10:\n",
                "\n",
                "missclassification: \"Second Floor ORG in Kitchen GPE\" is acutally all one ORG not and org with its GPE.\n",
                "\n",
                "What is New American NORP ? NORP: Nationalities or religious or political groups. Although "
            ]
        },
        {
            "cell_type": "markdown",
            "id": "eaf0d513",
            "metadata": {},
            "source": [
                "### NER is particularly challenged by:\n",
                "\n",
                "Ambiguous Names: Like \"The Mummy\" or “Snaps” (movie/product vs. person/location).\n",
                "\n",
                "Named Locations vs. Generic Words: \"Kitchen\" (room) vs. “Kitchen” (place name).\n",
                "\n",
                "Business/Facility Names: Often misclassified as PERSON or WORK_OF_ART when they are hotels or organizations.\n",
                "\n",
                "Cultural/Artistic References: Songs, bands, or movie names not well represented in spaCy’s default en_core_web_sm model.\n",
                "\n",
                "Multitoken Names: Long org names like \"One Voice Children’s Choir\" are missed unless trained on similar data."
            ]
        },
        {
            "cell_type": "markdown",
            "id": "16a88d29",
            "metadata": {},
            "source": [
                "## TAG OVERWIEW\n",
                "\n",
                "**PERSON:**      People, including fictional.\n",
                "\n",
                "**NORP:**       Nationalities or religious or political groups.\n",
                "\n",
                "**FAC:**         Buildings, airports, highways, bridges, etc.\n",
                "\n",
                "**ORG:**         Companies, agencies, institutions, etc.\n",
                "\n",
                "**GPE:**        Countries, cities, states.\n",
                "\n",
                "**LOC:**         Non-GPE locations, mountain ranges, bodies of water.\n",
                "\n",
                "**PRODUCT:**     Objects, vehicles, foods, etc. (Not services.)\n",
                "\n",
                "**EVENT:**       Named hurricanes, battles, wars, sports events, etc.\n",
                "\n",
                "**WORK_OF_ART:** Titles of books, songs, etc.\n",
                "\n",
                "**LAW:**         Named documents made into laws.\n",
                "\n",
                "**LANGUAGE:**    Any named language.\n",
                "\n",
                "**DATE:**        Absolute or relative dates or periods.\n",
                "\n",
                "**TIME:**        Times smaller than a day.\n",
                "\n",
                "**PERCENT:**     Percentage, including ”%“.\n",
                "\n",
                "**MONEY:**       Monetary values, including unit.\n",
                "\n",
                "**QUANTITY:**    Measurements, as of weight or distance.\n",
                "\n",
                "**ORDINAL:**     “first”, “second”, etc.\n",
                "\n",
                "**CARDINAL:**    Numerals that do not fall under another type."
            ]
        },
        {
            "cell_type": "markdown",
            "id": "0eb591d2",
            "metadata": {},
            "source": [
                "---"
            ]
        },
        {
            "cell_type": "markdown",
            "id": "fafba55f",
            "metadata": {},
            "source": [
                "#### Submitting your results:\n",
                "\n",
                "To submit your results, please:\n",
                "\n",
                "- save this file, i.e., `ex??_assignment.ipynb`.\n",
                "- if you reference any external files (e.g., images), please create a zip or rar archieve and put the notebook files and all referenced files in there.\n",
                "- login to ILIAS and submit the `*.ipynb` or archive for the corresponding assignment."
            ]
        },
        {
            "cell_type": "markdown",
            "id": "219fb29a",
            "metadata": {},
            "source": [
                "**Remarks:**\n",
                "    \n",
                "- Do not copy any code from the Internet. In case you want to use publicly available code, please, add the reference to the respective code snippet.\n",
                "- Check your code compiles and executes, even after you have restarted the Kernel.\n",
                "- Submit your written solutions and the coding exercises within the provided spaces and not otherwise.\n",
                "- Write the names of your partner and your name in the top section."
            ]
        }
    ],
    "metadata": {
        "kernelspec": {
            "display_name": "Python 3",
            "language": "python",
            "name": "python3"
        },
        "language_info": {
            "codemirror_mode": {
                "name": "ipython",
                "version": 3
            },
            "file_extension": ".py",
            "mimetype": "text/x-python",
            "name": "python",
            "nbconvert_exporter": "python",
            "pygments_lexer": "ipython3",
            "version": "3.12.4"
        }
    },
    "nbformat": 4,
    "nbformat_minor": 5
}
